{
  "cells": [
    {
      "cell_type": "code",
      "execution_count": null,
      "metadata": {
        "cellView": "form",
        "colab": {
          "base_uri": "https://localhost:8080/"
        },
        "id": "xKjnQLqKwaFz",
        "outputId": "ac14e168-8a22-4fe9-ac6e-782f9baa2166"
      },
      "outputs": [
        {
          "name": "stdout",
          "output_type": "stream",
          "text": [
            "Mounted at /content/drive\n"
          ]
        }
      ],
      "source": [
        "#@markdown #Mount Google Drive\n",
        "#@markdown - To save time and avoid repeatedly uploading a large audio dataset, the audio dataset can be stored in a Google Drive and loaded directly from there. The total file size of the dataset is 2.62 GB, which can take a long time to upload each time the Colab runtime is opened.\n",
        "\n",
        "#@markdown - By storing the dataset in Google Drive, it can be easily accessed and loaded into Colab. This method is much faster than uploading the dataset each time Colab is opened. Additionally, it ensures that the dataset is always available, and the user does not need to worry about losing or misplacing the files.\n",
        "\n",
        "#@markdown - Overall, storing large datasets in Google Drive is an efficient and convenient way to manage data, especially for machine learning projects that require large amounts of data.\n",
        "\n",
        "mount_drive = True #@param {type:\"boolean\"}\n",
        "if mount_drive:\n",
        "    from google.colab import drive\n",
        "    drive.mount('/content/drive')"
      ]
    },
    {
      "cell_type": "markdown",
      "metadata": {
        "id": "F-Ua465SAzNp"
      },
      "source": [
        "The audio files are labelled as follows:\n",
        "<br>EmotionNumber_ SentenceNumber_Gender _Synthetic/Natural_SpeakerNumber\n",
        "\n",
        "<br>The 4 sentences provided are as per the following indices:\n",
        "<br>01 – We need an ambulance as soon as possible.\n",
        "<br>02 – Someone has been lying dead on the street.\n",
        "<br>03 – A neighbor of mine is shot dead.\n",
        "<br>04 – This place is on fire. Please send help.\n",
        "\n",
        "<br>The emotions have the following indices:\n",
        "<br>01- Angry\n",
        "<br>02- Drunk\n",
        "<br>03- Painful\n",
        "<br>04- Stressful\n",
        "\n",
        "<br>Gender is labelled as:\n",
        "<br>01- Female\n",
        "<br>02- Male\n",
        "\n",
        "<br>The type of audio is labelled as :\n",
        "<br>01- Natural\n",
        "<br>02- Synthetic"
      ]
    },
    {
      "cell_type": "code",
      "execution_count": null,
      "metadata": {
        "id": "qsoxc8uM4KpZ"
      },
      "outputs": [],
      "source": [
        "import os\n",
        "import pandas as pd\n",
        "import re\n",
        "import matplotlib.pyplot as plt\n",
        "import seaborn as sns\n",
        "import numpy as np"
      ]
    },
    {
      "cell_type": "code",
      "execution_count": null,
      "metadata": {
        "cellView": "form",
        "colab": {
          "base_uri": "https://localhost:8080/"
        },
        "id": "uuYR_iklCoFh",
        "outputId": "0efa1de7-d01d-48b0-853a-e87d073bfa76"
      },
      "outputs": [
        {
          "name": "stdout",
          "output_type": "stream",
          "text": [
            "Audio Files: ['04_01_01_01_01.wav', '01_03_01_01_01.wav', '01_02_01_01_01.wav', '01_04_01_01_01.wav', '02_02_01_01_01.wav', '01_01_01_01_01.wav', '02_03_01_01_01.wav', '03_03_01_01_01.wav', '03_04_01_01_01.wav', '02_01_01_01_01.wav', '03_02_01_01_01.wav', '04_03_01_01_01.wav', '02_04_01_01_01.wav', '04_02_01_01_01.wav', '03_01_01_01_01.wav', '02_01_01_01_10.wav', '02_04_00_02_10.wav', '04_04_00_02_10.wav', '01_03_02_01_12.wav', '02_03_01_01_10.wav', '04_01_01_01_10.wav', '01_01_02_01_12.wav', '01_04_02_01_11.wav', '04_03_01_01_10.wav', '03_02_01_01_10.wav', '01_01_00_02_10.wav', '04_03_00_02_10.wav', '04_04_01_01_01.wav', '01_04_00_02_10.wav', '02_02_02_01_11.wav', '03_02_02_01_11.wav', '01_02_02_01_12.wav', '04_03_02_01_11.wav', '02_04_01_01_10.wav', '01_02_01_01_10.wav', '03_04_00_02_10.wav', '01_03_02_01_11.wav', '01_04_02_01_12.wav', '02_03_00_02_10.wav', '04_02_00_02_10.wav', '04_01_00_02_10.wav', '02_01_02_01_11.wav', '01_04_01_01_10.wav', '01_03_00_02_10.wav', '04_04_01_01_10.wav', '02_01_02_01_12.wav', '02_04_02_01_11.wav', '02_03_02_01_12.wav', '03_01_01_01_10.wav', '03_03_01_01_10.wav', '04_02_01_01_10.wav', '01_01_01_01_10.wav', '01_02_02_01_11.wav', '04_04_02_01_11.wav', '03_04_01_01_10.wav', '03_01_00_02_10.wav', '03_03_00_02_10.wav', '03_02_00_02_10.wav', '02_01_00_02_10.wav', '03_04_02_01_11.wav', '04_02_02_01_11.wav', '02_03_02_01_11.wav', '02_02_02_01_12.wav', '01_03_01_01_10.wav', '01_02_00_02_10.wav', '03_04_02_01_12.wav', '04_03_02_01_12.wav', '04_03_02_01_13.wav', '03_01_02_01_13.wav', '02_04_02_01_12.wav', '03_03_02_01_12.wav', '01_03_00_02_13.wav', '03_04_02_01_13.wav', '01_04_01_01_14.wav', '03_02_00_02_13.wav', '02_03_01_01_14.wav', '03_01_00_02_13.wav', '01_02_02_01_13.wav', '01_03_01_01_14.wav', '01_01_02_01_13.wav', '01_04_02_01_13.wav', '04_01_00_02_13.wav', '01_02_01_01_15.wav', '03_01_02_01_12.wav', '04_01_01_01_14.wav', '01_03_02_01_13.wav', '03_03_00_02_13.wav', '02_01_01_01_14.wav', '04_01_02_01_13.wav', '03_02_02_01_12.wav', '02_01_00_02_13.wav', '02_02_02_01_13.wav', '04_04_02_01_13.wav', '01_04_00_02_13.wav', '02_04_02_01_13.wav', '03_02_01_01_14.wav', '03_03_01_01_14.wav', '04_04_00_02_13.wav', '01_01_01_01_15.wav', '01_01_00_02_13.wav', '03_04_01_01_14.wav', '02_02_00_02_13.wav', '03_01_01_01_14.wav', '01_02_00_02_13.wav', '04_03_00_02_13.wav', '02_04_00_02_13.wav', '03_02_02_01_13.wav', '04_04_02_01_12.wav', '02_03_02_01_13.wav', '04_01_02_01_12.wav', '01_01_01_01_14.wav', '01_02_01_01_14.wav', '04_02_02_01_13.wav', '04_02_02_01_12.wav', '04_02_01_01_14.wav', '02_01_02_01_13.wav', '04_03_01_01_14.wav', '03_04_00_02_13.wav', '04_02_00_02_13.wav', '02_02_01_01_14.wav', '04_04_01_01_14.wav', '02_03_00_02_13.wav', '03_03_02_01_13.wav', '02_04_01_01_14.wav', '03_02_01_01_15.wav', '04_04_01_01_18.wav', '02_01_02_01_16.wav', '03_01_02_01_17.wav', '04_03_01_01_18.wav', '04_02_02_01_16.wav', '01_04_02_01_16.wav', '01_02_01_01_18.wav', '03_03_01_01_15.wav', '01_03_01_01_15.wav', '01_03_02_01_17.wav', '04_03_01_01_15.wav', '03_04_01_01_15.wav', '01_02_01_01_02.wav', '04_02_01_01_15.wav', '03_03_02_01_17.wav', '04_01_01_01_18.wav', '02_02_01_01_15.wav', '02_01_01_01_15.wav', '01_01_01_01_18.wav', '01_04_02_01_17.wav', '03_04_02_01_16.wav', '02_02_02_01_16.wav', '01_04_01_01_18.wav', '03_01_02_01_16.wav', '01_02_02_01_16.wav', '02_04_01_01_18.wav', '03_01_01_01_15.wav', '03_02_02_01_17.wav', '02_02_01_01_18.wav', '02_01_02_01_17.wav', '04_01_01_01_15.wav', '03_01_01_01_18.wav', '02_03_01_01_18.wav', '02_01_01_01_18.wav', '02_03_02_01_17.wav', '01_02_00_02_02.wav', '03_03_02_01_16.wav', '01_02_02_01_17.wav', '02_04_01_01_15.wav', '03_04_02_01_17.wav', '04_03_02_01_16.wav', '04_04_02_01_16.wav', '04_03_02_01_17.wav', '01_04_01_01_15.wav', '03_02_01_01_18.wav', '03_04_01_01_18.wav', '03_03_01_01_18.wav', '04_04_02_01_17.wav', '02_04_02_01_17.wav', '01_03_01_01_18.wav', '04_02_01_01_18.wav', '01_01_00_02_02.wav', '02_03_01_01_15.wav', '04_04_01_01_15.wav', '02_02_02_01_17.wav', '04_02_02_01_17.wav', '02_04_02_01_16.wav', '01_01_01_01_02.wav', '01_01_02_01_16.wav', '04_01_02_01_17.wav', '02_03_02_01_16.wav', '01_03_00_02_02.wav', '03_02_02_01_16.wav', '04_01_02_01_16.wav', '01_03_02_01_16.wav', '01_01_02_01_17.wav', '04_02_01_01_02.wav', '02_03_00_02_02.wav', '01_03_01_01_02.wav', '02_02_00_02_02.wav', '02_01_01_01_02.wav', '04_01_00_02_02.wav', '04_03_00_02_02.wav', '04_04_00_02_02.wav', '02_02_01_01_03.wav', '04_02_00_02_02.wav', '01_04_01_01_02.wav', '02_03_01_01_02.wav', '03_01_01_01_03.wav', '03_04_01_01_02.wav', '03_03_01_01_02.wav', '02_01_00_02_02.wav', '02_02_01_01_02.wav', '02_03_01_01_03.wav', '03_02_00_02_02.wav', '01_04_01_01_03.wav', '01_04_00_02_02.wav', '01_01_01_01_03.wav', '03_03_00_02_02.wav', '04_04_01_01_02.wav', '04_01_01_01_02.wav', '01_03_01_01_03.wav', '01_02_01_01_03.wav', '03_01_00_02_02.wav', '02_04_01_01_03.wav', '03_01_01_01_02.wav', '04_03_01_01_02.wav', '03_04_00_02_02.wav', '02_01_01_01_03.wav', '02_04_00_02_02.wav', '02_04_01_01_02.wav', '03_02_01_01_02.wav', '01_04_01_01_06.wav', '01_01_01_01_05.wav', '02_04_01_01_04.wav', '04_01_01_01_05.wav', '02_03_01_01_06.wav', '02_01_01_01_06.wav', '04_04_01_01_03.wav', '03_01_01_01_05.wav', '04_02_01_01_03.wav', '01_01_01_01_06.wav', '03_04_01_01_04.wav', '04_03_01_01_04.wav', '04_03_01_01_05.wav', '02_03_01_01_04.wav', '02_04_01_01_06.wav', '03_02_01_01_03.wav', '04_03_01_01_03.wav', '03_03_01_01_05.wav', '01_02_01_01_04.wav', '04_04_01_01_04.wav', '01_04_01_01_05.wav', '01_01_01_01_04.wav', '03_02_01_01_05.wav', '02_02_01_01_05.wav', '02_02_01_01_06.wav', '01_02_01_01_06.wav', '04_04_01_01_05.wav', '03_03_01_01_03.wav', '03_01_01_01_04.wav', '04_01_01_01_04.wav', '02_01_01_01_04.wav', '02_04_01_01_05.wav', '01_02_01_01_05.wav', '04_02_01_01_04.wav', '02_03_01_01_05.wav', '01_03_01_01_04.wav', '01_03_01_01_05.wav', '03_04_01_01_05.wav', '01_04_01_01_04.wav', '02_02_01_01_04.wav', '03_03_01_01_04.wav', '03_01_01_01_06.wav', '03_02_01_01_04.wav', '04_01_01_01_03.wav', '02_01_01_01_05.wav', '04_02_01_01_05.wav', '01_03_01_01_06.wav', '03_04_01_01_03.wav', '04_03_01_01_06.wav', '02_01_02_01_07.wav', '04_04_02_01_07.wav', '04_03_02_01_08.wav', '03_02_01_01_06.wav', '03_04_02_01_07.wav', '01_01_02_01_09.wav', '01_02_02_01_07.wav', '01_01_00_02_09.wav', '01_02_00_02_09.wav', '04_02_02_01_08.wav', '02_03_02_01_08.wav', '03_03_02_01_07.wav', '01_04_02_01_08.wav', '04_01_02_01_07.wav', '04_04_02_01_08.wav', '03_04_01_01_06.wav', '02_02_02_01_07.wav', '03_01_02_01_07.wav', '01_01_02_01_07.wav', '03_02_02_01_08.wav', '03_02_02_01_07.wav', '01_02_02_01_08.wav', '01_03_02_01_07.wav', '04_02_01_01_06.wav', '01_02_02_01_09.wav', '02_04_02_01_07.wav', '03_03_02_01_08.wav', '04_01_02_01_08.wav', '01_03_02_01_08.wav', '01_04_02_01_07.wav', '03_04_02_01_08.wav', '04_02_02_01_07.wav', '02_04_02_01_08.wav', '02_03_02_01_07.wav', '04_03_02_01_07.wav', '01_01_02_01_08.wav', '03_01_02_01_08.wav', '03_03_01_01_06.wav', '04_04_01_01_06.wav', '02_01_02_01_08.wav', '04_01_01_01_06.wav', '02_02_02_01_08.wav', '01_03_00_02_09.wav', '01_04_00_02_09.wav', '03_01_02_01_09.wav', '03_03_02_01_09.wav', '03_01_00_02_09.wav', '03_02_00_02_09.wav', '04_02_02_01_09.wav', '01_04_02_01_09.wav', '03_04_02_01_09.wav', '01_03_02_01_09.wav', '04_03_00_02_09.wav', '04_01_00_02_09.wav', '03_02_02_01_09.wav', '03_04_00_02_09.wav', '04_02_00_02_09.wav', '04_04_00_02_09.wav', '04_01_02_01_09.wav', '04_03_02_01_09.wav', '03_03_00_02_09.wav', '04_04_02_01_09.wav']\n",
            "Total Audio Files: 338\n"
          ]
        }
      ],
      "source": [
        "#@markdown # Dataset Directory\n",
        "dataset_path = \"/content/drive/MyDrive/Datasets/Emotion Recognition for Emergency Calls\" #@param {type:\"string\"}\n",
        "\n",
        "file_list = os.listdir(dataset_path)\n",
        "print(f\"Audio Files: {file_list}\")\n",
        "print(f\"Total Audio Files: {len(file_list)}\")"
      ]
    },
    {
      "cell_type": "code",
      "execution_count": null,
      "metadata": {
        "colab": {
          "base_uri": "https://localhost:8080/"
        },
        "id": "m0jnTJO_nj_9",
        "outputId": "59b3dbe8-14e1-4fd3-a46d-ff1f3af68225"
      },
      "outputs": [
        {
          "data": {
            "text/plain": [
              "['04', '01', '01', '01', '01.wav']"
            ]
          },
          "execution_count": 4,
          "metadata": {},
          "output_type": "execute_result"
        }
      ],
      "source": [
        "file_list[0].split(\"_\")"
      ]
    },
    {
      "cell_type": "code",
      "execution_count": null,
      "metadata": {
        "cellView": "form",
        "colab": {
          "base_uri": "https://localhost:8080/"
        },
        "id": "quXOQRts-bR2",
        "outputId": "bddc5ed3-af90-482b-db31-81692a2c8b4c"
      },
      "outputs": [
        {
          "name": "stdout",
          "output_type": "stream",
          "text": [
            "Dataframe created and the variable is df.\n"
          ]
        }
      ],
      "source": [
        "#@markdown # Create a Dataframe of the Dataset\n",
        "\n",
        "emotion_list = []\n",
        "sentence_id_list = []\n",
        "gender_list = []\n",
        "speaker_id_list = []\n",
        "# speaker_name_list = []\n",
        "# take_id_list = []\n",
        "\n",
        "for file_name in file_list:\n",
        "    parts = file_name.split(\"_\")\n",
        "\n",
        "    if parts[2] == \"02\":\n",
        "      gender = \"M\"\n",
        "    elif parts[2] == \"01\":\n",
        "      gender = \"F\"\n",
        "    elif parts[2] == \"00\":\n",
        "      gender = \"S\"\n",
        "    else:\n",
        "      gender = \"U\"\n",
        "\n",
        "\n",
        "    actor_number = parts[3]\n",
        "\n",
        "    statement_number = parts[1]\n",
        "    emotion = {\n",
        "        \"01\": \"ANGRY\",\n",
        "        \"02\": \"DRUNK\",\n",
        "        \"03\": \"PAINFUL\",\n",
        "        \"04\": \"STRESSFUL\"\n",
        "        }[parts[0]]\n",
        "\n",
        "\n",
        "    # Append the extracted information to the respective lists\n",
        "    gender_list.append(gender)\n",
        "    sentence_id_list.append(statement_number)\n",
        "    emotion_list.append(emotion)\n",
        "\n",
        "# Creating a dictionary with the lists as values\n",
        "data = {\n",
        "    'gender': gender_list,\n",
        "    'speaker_name': actor_number,\n",
        "    'sentence_id': sentence_id_list,\n",
        "    'emotion': emotion_list,\n",
        "}\n",
        "\n",
        "# Creating the DataFrame\n",
        "df = pd.DataFrame(data)\n",
        "print(\"Dataframe created and the variable is df.\")\n"
      ]
    },
    {
      "cell_type": "code",
      "execution_count": null,
      "metadata": {
        "colab": {
          "base_uri": "https://localhost:8080/",
          "height": 206
        },
        "id": "wjEDllfcA2Ca",
        "outputId": "c5224ed9-1cd8-4f13-eb1e-f948cf93aa83"
      },
      "outputs": [
        {
          "data": {
            "text/html": [
              "\n",
              "  <div id=\"df-0d97d2f1-105c-497b-ba4c-1241a019ea00\" class=\"colab-df-container\">\n",
              "    <div>\n",
              "<style scoped>\n",
              "    .dataframe tbody tr th:only-of-type {\n",
              "        vertical-align: middle;\n",
              "    }\n",
              "\n",
              "    .dataframe tbody tr th {\n",
              "        vertical-align: top;\n",
              "    }\n",
              "\n",
              "    .dataframe thead th {\n",
              "        text-align: right;\n",
              "    }\n",
              "</style>\n",
              "<table border=\"1\" class=\"dataframe\">\n",
              "  <thead>\n",
              "    <tr style=\"text-align: right;\">\n",
              "      <th></th>\n",
              "      <th>gender</th>\n",
              "      <th>speaker_name</th>\n",
              "      <th>sentence_id</th>\n",
              "      <th>emotion</th>\n",
              "    </tr>\n",
              "  </thead>\n",
              "  <tbody>\n",
              "    <tr>\n",
              "      <th>0</th>\n",
              "      <td>F</td>\n",
              "      <td>01</td>\n",
              "      <td>01</td>\n",
              "      <td>STRESSFUL</td>\n",
              "    </tr>\n",
              "    <tr>\n",
              "      <th>1</th>\n",
              "      <td>F</td>\n",
              "      <td>01</td>\n",
              "      <td>03</td>\n",
              "      <td>ANGRY</td>\n",
              "    </tr>\n",
              "    <tr>\n",
              "      <th>2</th>\n",
              "      <td>F</td>\n",
              "      <td>01</td>\n",
              "      <td>02</td>\n",
              "      <td>ANGRY</td>\n",
              "    </tr>\n",
              "    <tr>\n",
              "      <th>3</th>\n",
              "      <td>F</td>\n",
              "      <td>01</td>\n",
              "      <td>04</td>\n",
              "      <td>ANGRY</td>\n",
              "    </tr>\n",
              "    <tr>\n",
              "      <th>4</th>\n",
              "      <td>F</td>\n",
              "      <td>01</td>\n",
              "      <td>02</td>\n",
              "      <td>DRUNK</td>\n",
              "    </tr>\n",
              "  </tbody>\n",
              "</table>\n",
              "</div>\n",
              "    <div class=\"colab-df-buttons\">\n",
              "\n",
              "  <div class=\"colab-df-container\">\n",
              "    <button class=\"colab-df-convert\" onclick=\"convertToInteractive('df-0d97d2f1-105c-497b-ba4c-1241a019ea00')\"\n",
              "            title=\"Convert this dataframe to an interactive table.\"\n",
              "            style=\"display:none;\">\n",
              "\n",
              "  <svg xmlns=\"http://www.w3.org/2000/svg\" height=\"24px\" viewBox=\"0 -960 960 960\">\n",
              "    <path d=\"M120-120v-720h720v720H120Zm60-500h600v-160H180v160Zm220 220h160v-160H400v160Zm0 220h160v-160H400v160ZM180-400h160v-160H180v160Zm440 0h160v-160H620v160ZM180-180h160v-160H180v160Zm440 0h160v-160H620v160Z\"/>\n",
              "  </svg>\n",
              "    </button>\n",
              "\n",
              "  <style>\n",
              "    .colab-df-container {\n",
              "      display:flex;\n",
              "      gap: 12px;\n",
              "    }\n",
              "\n",
              "    .colab-df-convert {\n",
              "      background-color: #E8F0FE;\n",
              "      border: none;\n",
              "      border-radius: 50%;\n",
              "      cursor: pointer;\n",
              "      display: none;\n",
              "      fill: #1967D2;\n",
              "      height: 32px;\n",
              "      padding: 0 0 0 0;\n",
              "      width: 32px;\n",
              "    }\n",
              "\n",
              "    .colab-df-convert:hover {\n",
              "      background-color: #E2EBFA;\n",
              "      box-shadow: 0px 1px 2px rgba(60, 64, 67, 0.3), 0px 1px 3px 1px rgba(60, 64, 67, 0.15);\n",
              "      fill: #174EA6;\n",
              "    }\n",
              "\n",
              "    .colab-df-buttons div {\n",
              "      margin-bottom: 4px;\n",
              "    }\n",
              "\n",
              "    [theme=dark] .colab-df-convert {\n",
              "      background-color: #3B4455;\n",
              "      fill: #D2E3FC;\n",
              "    }\n",
              "\n",
              "    [theme=dark] .colab-df-convert:hover {\n",
              "      background-color: #434B5C;\n",
              "      box-shadow: 0px 1px 3px 1px rgba(0, 0, 0, 0.15);\n",
              "      filter: drop-shadow(0px 1px 2px rgba(0, 0, 0, 0.3));\n",
              "      fill: #FFFFFF;\n",
              "    }\n",
              "  </style>\n",
              "\n",
              "    <script>\n",
              "      const buttonEl =\n",
              "        document.querySelector('#df-0d97d2f1-105c-497b-ba4c-1241a019ea00 button.colab-df-convert');\n",
              "      buttonEl.style.display =\n",
              "        google.colab.kernel.accessAllowed ? 'block' : 'none';\n",
              "\n",
              "      async function convertToInteractive(key) {\n",
              "        const element = document.querySelector('#df-0d97d2f1-105c-497b-ba4c-1241a019ea00');\n",
              "        const dataTable =\n",
              "          await google.colab.kernel.invokeFunction('convertToInteractive',\n",
              "                                                    [key], {});\n",
              "        if (!dataTable) return;\n",
              "\n",
              "        const docLinkHtml = 'Like what you see? Visit the ' +\n",
              "          '<a target=\"_blank\" href=https://colab.research.google.com/notebooks/data_table.ipynb>data table notebook</a>'\n",
              "          + ' to learn more about interactive tables.';\n",
              "        element.innerHTML = '';\n",
              "        dataTable['output_type'] = 'display_data';\n",
              "        await google.colab.output.renderOutput(dataTable, element);\n",
              "        const docLink = document.createElement('div');\n",
              "        docLink.innerHTML = docLinkHtml;\n",
              "        element.appendChild(docLink);\n",
              "      }\n",
              "    </script>\n",
              "  </div>\n",
              "\n",
              "\n",
              "<div id=\"df-ecbabe6d-6047-4ca8-9eec-d37a30795865\">\n",
              "  <button class=\"colab-df-quickchart\" onclick=\"quickchart('df-ecbabe6d-6047-4ca8-9eec-d37a30795865')\"\n",
              "            title=\"Suggest charts\"\n",
              "            style=\"display:none;\">\n",
              "\n",
              "<svg xmlns=\"http://www.w3.org/2000/svg\" height=\"24px\"viewBox=\"0 0 24 24\"\n",
              "     width=\"24px\">\n",
              "    <g>\n",
              "        <path d=\"M19 3H5c-1.1 0-2 .9-2 2v14c0 1.1.9 2 2 2h14c1.1 0 2-.9 2-2V5c0-1.1-.9-2-2-2zM9 17H7v-7h2v7zm4 0h-2V7h2v10zm4 0h-2v-4h2v4z\"/>\n",
              "    </g>\n",
              "</svg>\n",
              "  </button>\n",
              "\n",
              "<style>\n",
              "  .colab-df-quickchart {\n",
              "      --bg-color: #E8F0FE;\n",
              "      --fill-color: #1967D2;\n",
              "      --hover-bg-color: #E2EBFA;\n",
              "      --hover-fill-color: #174EA6;\n",
              "      --disabled-fill-color: #AAA;\n",
              "      --disabled-bg-color: #DDD;\n",
              "  }\n",
              "\n",
              "  [theme=dark] .colab-df-quickchart {\n",
              "      --bg-color: #3B4455;\n",
              "      --fill-color: #D2E3FC;\n",
              "      --hover-bg-color: #434B5C;\n",
              "      --hover-fill-color: #FFFFFF;\n",
              "      --disabled-bg-color: #3B4455;\n",
              "      --disabled-fill-color: #666;\n",
              "  }\n",
              "\n",
              "  .colab-df-quickchart {\n",
              "    background-color: var(--bg-color);\n",
              "    border: none;\n",
              "    border-radius: 50%;\n",
              "    cursor: pointer;\n",
              "    display: none;\n",
              "    fill: var(--fill-color);\n",
              "    height: 32px;\n",
              "    padding: 0;\n",
              "    width: 32px;\n",
              "  }\n",
              "\n",
              "  .colab-df-quickchart:hover {\n",
              "    background-color: var(--hover-bg-color);\n",
              "    box-shadow: 0 1px 2px rgba(60, 64, 67, 0.3), 0 1px 3px 1px rgba(60, 64, 67, 0.15);\n",
              "    fill: var(--button-hover-fill-color);\n",
              "  }\n",
              "\n",
              "  .colab-df-quickchart-complete:disabled,\n",
              "  .colab-df-quickchart-complete:disabled:hover {\n",
              "    background-color: var(--disabled-bg-color);\n",
              "    fill: var(--disabled-fill-color);\n",
              "    box-shadow: none;\n",
              "  }\n",
              "\n",
              "  .colab-df-spinner {\n",
              "    border: 2px solid var(--fill-color);\n",
              "    border-color: transparent;\n",
              "    border-bottom-color: var(--fill-color);\n",
              "    animation:\n",
              "      spin 1s steps(1) infinite;\n",
              "  }\n",
              "\n",
              "  @keyframes spin {\n",
              "    0% {\n",
              "      border-color: transparent;\n",
              "      border-bottom-color: var(--fill-color);\n",
              "      border-left-color: var(--fill-color);\n",
              "    }\n",
              "    20% {\n",
              "      border-color: transparent;\n",
              "      border-left-color: var(--fill-color);\n",
              "      border-top-color: var(--fill-color);\n",
              "    }\n",
              "    30% {\n",
              "      border-color: transparent;\n",
              "      border-left-color: var(--fill-color);\n",
              "      border-top-color: var(--fill-color);\n",
              "      border-right-color: var(--fill-color);\n",
              "    }\n",
              "    40% {\n",
              "      border-color: transparent;\n",
              "      border-right-color: var(--fill-color);\n",
              "      border-top-color: var(--fill-color);\n",
              "    }\n",
              "    60% {\n",
              "      border-color: transparent;\n",
              "      border-right-color: var(--fill-color);\n",
              "    }\n",
              "    80% {\n",
              "      border-color: transparent;\n",
              "      border-right-color: var(--fill-color);\n",
              "      border-bottom-color: var(--fill-color);\n",
              "    }\n",
              "    90% {\n",
              "      border-color: transparent;\n",
              "      border-bottom-color: var(--fill-color);\n",
              "    }\n",
              "  }\n",
              "</style>\n",
              "\n",
              "  <script>\n",
              "    async function quickchart(key) {\n",
              "      const quickchartButtonEl =\n",
              "        document.querySelector('#' + key + ' button');\n",
              "      quickchartButtonEl.disabled = true;  // To prevent multiple clicks.\n",
              "      quickchartButtonEl.classList.add('colab-df-spinner');\n",
              "      try {\n",
              "        const charts = await google.colab.kernel.invokeFunction(\n",
              "            'suggestCharts', [key], {});\n",
              "      } catch (error) {\n",
              "        console.error('Error during call to suggestCharts:', error);\n",
              "      }\n",
              "      quickchartButtonEl.classList.remove('colab-df-spinner');\n",
              "      quickchartButtonEl.classList.add('colab-df-quickchart-complete');\n",
              "    }\n",
              "    (() => {\n",
              "      let quickchartButtonEl =\n",
              "        document.querySelector('#df-ecbabe6d-6047-4ca8-9eec-d37a30795865 button');\n",
              "      quickchartButtonEl.style.display =\n",
              "        google.colab.kernel.accessAllowed ? 'block' : 'none';\n",
              "    })();\n",
              "  </script>\n",
              "</div>\n",
              "    </div>\n",
              "  </div>\n"
            ],
            "text/plain": [
              "  gender speaker_name sentence_id    emotion\n",
              "0      F           01          01  STRESSFUL\n",
              "1      F           01          03      ANGRY\n",
              "2      F           01          02      ANGRY\n",
              "3      F           01          04      ANGRY\n",
              "4      F           01          02      DRUNK"
            ]
          },
          "execution_count": 6,
          "metadata": {},
          "output_type": "execute_result"
        }
      ],
      "source": [
        "df.head()"
      ]
    },
    {
      "cell_type": "code",
      "execution_count": null,
      "metadata": {
        "cellView": "form",
        "colab": {
          "base_uri": "https://localhost:8080/",
          "height": 1000
        },
        "id": "5t-ELZGyPxQE",
        "outputId": "6ea7c1ca-d7fb-4003-defb-aa11be85723b"
      },
      "outputs": [
        {
          "data": {
            "image/png": "[encoded data removed]",
            "text/plain": [
              "<Figure size 800x600 with 1 Axes>"
            ]
          },
          "metadata": {},
          "output_type": "display_data"
        },
        {
          "data": {
            "image/png": "[encoded data removed]",
            "text/plain": [
              "<Figure size 640x480 with 1 Axes>"
            ]
          },
          "metadata": {},
          "output_type": "display_data"
        },
        {
          "data": {
            "image/png": "[encoded data removed]",
            "text/plain": [
              "<Figure size 640x480 with 1 Axes>"
            ]
          },
          "metadata": {},
          "output_type": "display_data"
        }
      ],
      "source": [
        "#@markdown # Data Visualization\n",
        "#@markdown Display a plot that shows the distribution of emotions in the dataset.\n",
        "plot_distribution_of_emotions = True #@param {type:\"boolean\"}\n",
        "\n",
        "#@markdown Display a plot that shows the distribution of genders in the dataset.\n",
        "plot_distribution_of_gender = True #@param {type:\"boolean\"}\n",
        "\n",
        "#@markdown Display a plot that shows the distribution of speaker names in the dataset.\n",
        "plot_distribution_of_speaker = True #@param {type:\"boolean\"}\n",
        "\n",
        "if plot_distribution_of_emotions:\n",
        "    # Define the colors for each emotion\n",
        "    colors = {\n",
        "    'angry': '#FF5733',\n",
        "    'drunk': '#AC33FF',\n",
        "    'painful': '#FF4500',\n",
        "    'stressful': '#800080'\n",
        "    }\n",
        "\n",
        "\n",
        "\n",
        "    # Set the color palette using the defined colors\n",
        "    palette = [colors[x] for x in colors]\n",
        "\n",
        "    # Create the countplot\n",
        "    plt.figure(figsize=(8,6))\n",
        "    sns.countplot(x='emotion', data=df, palette=palette, order=df['emotion'].value_counts().index)\n",
        "    plt.title(\"Emotion Distribution Overview\")\n",
        "    plt.xlabel(\"Emotions\")\n",
        "    plt.ylabel(\"Count\")\n",
        "\n",
        "    # Add count values to the bars\n",
        "    for i in range(len(df['emotion'].unique())):\n",
        "        count = df['emotion'].value_counts().values[i]\n",
        "        plt.annotate(str(count), xy=(i, count), ha='center', fontsize=10)\n",
        "\n",
        "    # Show the plot\n",
        "    plt.savefig('SER_Emotion.tiff', dpi=300, format='tiff')\n",
        "    plt.show()\n",
        "\n",
        "\n",
        "if plot_distribution_of_gender:\n",
        "    # Countplot for Gender distribution\n",
        "    sns.countplot(x='gender', data=df)\n",
        "    plt.title('Gender Distribution Overview')\n",
        "    # Add count values to the bars\n",
        "    for i in range(len(df['gender'].unique())):\n",
        "        count = df['gender'].value_counts().values[i]\n",
        "        plt.annotate(str(count), xy=(i, count), ha='center', fontsize=10)\n",
        "\n",
        "    # Show the plot\n",
        "    plt.savefig('SER_Gender.tiff', dpi=300, format='tiff')\n",
        "    plt.show()\n",
        "\n",
        "if plot_distribution_of_speaker:\n",
        "    # Barplot for Speaker_name distribution\n",
        "    sns.countplot(x='speaker_name', data=df)\n",
        "    plt.title('Speaker Name Distribution')\n",
        "    plt.xticks(rotation=90)\n",
        "    # Add count values to the bars\n",
        "    for i in range(len(df['speaker_name'].unique())):\n",
        "        count = df['speaker_name'].value_counts().values[i]\n",
        "        plt.annotate(str(count), xy=(i, count), ha='center', fontsize=8)\n",
        "\n",
        "    # Show the plot\n",
        "    plt.show()\n",
        "\n"
      ]
    },
    {
      "cell_type": "code",
      "execution_count": null,
      "metadata": {
        "cellView": "form",
        "id": "0biEt_ZHCRJd"
      },
      "outputs": [],
      "source": [
        "#@markdown # Save Dataframe as CSV\n",
        "sava_dataframe_as_csv = False #@param {type:\"boolean\"}\n",
        "csv_directory = \"/content/drive/MyDrive/Datasets/Bangla Audio/SUBESCO_CSV.csv\" #@param {type: \"string\"}\n",
        "if sava_dataframe_as_csv:\n",
        "  try:\n",
        "    df.to_csv(csv_directory, index=False)\n",
        "    print(f\"File saved in directory: {csv_directory}\")\n",
        "  except:\n",
        "    print(f\"Error occurred while saving the file to the directory: {csv_directory}\")"
      ]
    },
    {
      "cell_type": "code",
      "execution_count": null,
      "metadata": {
        "cellView": "form",
        "colab": {
          "base_uri": "https://localhost:8080/"
        },
        "id": "pjOggEq6YOYg",
        "outputId": "5b7e562c-2a00-4cbb-ff66-038dd49905ca"
      },
      "outputs": [
        {
          "name": "stdout",
          "output_type": "stream",
          "text": [
            "Requirement already satisfied: librosa in /usr/local/lib/python3.10/dist-packages (0.10.1)\n",
            "Requirement already satisfied: audioread>=2.1.9 in /usr/local/lib/python3.10/dist-packages (from librosa) (3.0.1)\n",
            "Requirement already satisfied: numpy!=1.22.0,!=1.22.1,!=1.22.2,>=1.20.3 in /usr/local/lib/python3.10/dist-packages (from librosa) (1.23.5)\n",
            "Requirement already satisfied: scipy>=1.2.0 in /usr/local/lib/python3.10/dist-packages (from librosa) (1.11.3)\n",
            "Requirement already satisfied: scikit-learn>=0.20.0 in /usr/local/lib/python3.10/dist-packages (from librosa) (1.2.2)\n",
            "Requirement already satisfied: joblib>=0.14 in /usr/local/lib/python3.10/dist-packages (from librosa) (1.3.2)\n",
            "Requirement already satisfied: decorator>=4.3.0 in /usr/local/lib/python3.10/dist-packages (from librosa) (4.4.2)\n",
            "Requirement already satisfied: numba>=0.51.0 in /usr/local/lib/python3.10/dist-packages (from librosa) (0.58.1)\n",
            "Requirement already satisfied: soundfile>=0.12.1 in /usr/local/lib/python3.10/dist-packages (from librosa) (0.12.1)\n",
            "Requirement already satisfied: pooch>=1.0 in /usr/local/lib/python3.10/dist-packages (from librosa) (1.8.0)\n",
            "Requirement already satisfied: soxr>=0.3.2 in /usr/local/lib/python3.10/dist-packages (from librosa) (0.3.7)\n",
            "Requirement already satisfied: typing-extensions>=4.1.1 in /usr/local/lib/python3.10/dist-packages (from librosa) (4.5.0)\n",
            "Requirement already satisfied: lazy-loader>=0.1 in /usr/local/lib/python3.10/dist-packages (from librosa) (0.3)\n",
            "Requirement already satisfied: msgpack>=1.0 in /usr/local/lib/python3.10/dist-packages (from librosa) (1.0.7)\n",
            "Requirement already satisfied: llvmlite<0.42,>=0.41.0dev0 in /usr/local/lib/python3.10/dist-packages (from numba>=0.51.0->librosa) (0.41.1)\n",
            "Requirement already satisfied: platformdirs>=2.5.0 in /usr/local/lib/python3.10/dist-packages (from pooch>=1.0->librosa) (4.0.0)\n",
            "Requirement already satisfied: packaging>=20.0 in /usr/local/lib/python3.10/dist-packages (from pooch>=1.0->librosa) (23.2)\n",
            "Requirement already satisfied: requests>=2.19.0 in /usr/local/lib/python3.10/dist-packages (from pooch>=1.0->librosa) (2.31.0)\n",
            "Requirement already satisfied: threadpoolctl>=2.0.0 in /usr/local/lib/python3.10/dist-packages (from scikit-learn>=0.20.0->librosa) (3.2.0)\n",
            "Requirement already satisfied: cffi>=1.0 in /usr/local/lib/python3.10/dist-packages (from soundfile>=0.12.1->librosa) (1.16.0)\n",
            "Requirement already satisfied: pycparser in /usr/local/lib/python3.10/dist-packages (from cffi>=1.0->soundfile>=0.12.1->librosa) (2.21)\n",
            "Requirement already satisfied: charset-normalizer<4,>=2 in /usr/local/lib/python3.10/dist-packages (from requests>=2.19.0->pooch>=1.0->librosa) (3.3.2)\n",
            "Requirement already satisfied: idna<4,>=2.5 in /usr/local/lib/python3.10/dist-packages (from requests>=2.19.0->pooch>=1.0->librosa) (3.4)\n",
            "Requirement already satisfied: urllib3<3,>=1.21.1 in /usr/local/lib/python3.10/dist-packages (from requests>=2.19.0->pooch>=1.0->librosa) (2.0.7)\n",
            "Requirement already satisfied: certifi>=2017.4.17 in /usr/local/lib/python3.10/dist-packages (from requests>=2.19.0->pooch>=1.0->librosa) (2023.7.22)\n",
            "Requirement already satisfied: soundfile in /usr/local/lib/python3.10/dist-packages (0.12.1)\n",
            "Requirement already satisfied: cffi>=1.0 in /usr/local/lib/python3.10/dist-packages (from soundfile) (1.16.0)\n",
            "Requirement already satisfied: pycparser in /usr/local/lib/python3.10/dist-packages (from cffi>=1.0->soundfile) (2.21)\n",
            "Get:1 https://cloud.r-project.org/bin/linux/ubuntu jammy-cran40/ InRelease [3,626 B]\n",
            "Hit:2 https://developer.download.nvidia.com/compute/cuda/repos/ubuntu2204/x86_64  InRelease\n",
            "Get:3 http://security.ubuntu.com/ubuntu jammy-security InRelease [110 kB]\n",
            "Hit:4 http://archive.ubuntu.com/ubuntu jammy InRelease\n",
            "Get:5 http://archive.ubuntu.com/ubuntu jammy-updates InRelease [119 kB]\n",
            "Hit:6 http://archive.ubuntu.com/ubuntu jammy-backports InRelease\n",
            "Hit:7 https://ppa.launchpadcontent.net/c2d4u.team/c2d4u4.0+/ubuntu jammy InRelease\n",
            "Get:8 http://security.ubuntu.com/ubuntu jammy-security/main amd64 Packages [1,242 kB]\n",
            "Hit:9 https://ppa.launchpadcontent.net/deadsnakes/ppa/ubuntu jammy InRelease\n",
            "Get:10 http://archive.ubuntu.com/ubuntu jammy-updates/universe amd64 Packages [1,284 kB]\n",
            "Hit:11 https://ppa.launchpadcontent.net/graphics-drivers/ppa/ubuntu jammy InRelease\n",
            "Hit:12 https://ppa.launchpadcontent.net/ubuntugis/ppa/ubuntu jammy InRelease\n",
            "Get:13 http://security.ubuntu.com/ubuntu jammy-security/universe amd64 Packages [1,016 kB]\n",
            "Get:14 http://archive.ubuntu.com/ubuntu jammy-updates/main amd64 Packages [1,516 kB]\n",
            "Fetched 5,291 kB in 1s (3,743 kB/s)\n",
            "Reading package lists... Done\n",
            "Reading package lists... Done\n",
            "Building dependency tree... Done\n",
            "Reading state information... Done\n",
            "The following additional packages will be installed:\n",
            "  libportaudio2\n",
            "Suggested packages:\n",
            "  python-pyaudio-doc\n",
            "The following NEW packages will be installed:\n",
            "  libportaudio2 python3-pyaudio\n",
            "0 upgraded, 2 newly installed, 0 to remove and 24 not upgraded.\n",
            "Need to get 91.2 kB of archives.\n",
            "After this operation, 340 kB of additional disk space will be used.\n",
            "Get:1 http://archive.ubuntu.com/ubuntu jammy/universe amd64 libportaudio2 amd64 19.6.0-1.1 [65.3 kB]\n",
            "Get:2 http://archive.ubuntu.com/ubuntu jammy/universe amd64 python3-pyaudio amd64 0.2.11-1.3ubuntu1 [25.9 kB]\n",
            "Fetched 91.2 kB in 0s (233 kB/s)\n",
            "Selecting previously unselected package libportaudio2:amd64.\n",
            "(Reading database ... 120880 files and directories currently installed.)\n",
            "Preparing to unpack .../libportaudio2_19.6.0-1.1_amd64.deb ...\n",
            "Unpacking libportaudio2:amd64 (19.6.0-1.1) ...\n",
            "Selecting previously unselected package python3-pyaudio.\n",
            "Preparing to unpack .../python3-pyaudio_0.2.11-1.3ubuntu1_amd64.deb ...\n",
            "Unpacking python3-pyaudio (0.2.11-1.3ubuntu1) ...\n",
            "Setting up libportaudio2:amd64 (19.6.0-1.1) ...\n",
            "Setting up python3-pyaudio (0.2.11-1.3ubuntu1) ...\n",
            "Processing triggers for libc-bin (2.35-0ubuntu3.4) ...\n",
            "/sbin/ldconfig.real: /usr/local/lib/libtbbbind.so.3 is not a symbolic link\n",
            "\n",
            "/sbin/ldconfig.real: /usr/local/lib/libtbbbind_2_0.so.3 is not a symbolic link\n",
            "\n",
            "/sbin/ldconfig.real: /usr/local/lib/libtbb.so.12 is not a symbolic link\n",
            "\n",
            "/sbin/ldconfig.real: /usr/local/lib/libtbbmalloc.so.2 is not a symbolic link\n",
            "\n",
            "/sbin/ldconfig.real: /usr/local/lib/libtbbmalloc_proxy.so.2 is not a symbolic link\n",
            "\n",
            "/sbin/ldconfig.real: /usr/local/lib/libtbbbind_2_5.so.3 is not a symbolic link\n",
            "\n",
            "Collecting resampy\n",
            "  Downloading resampy-0.4.2-py3-none-any.whl (3.1 MB)\n",
            "\u001b[2K     \u001b[90m━━━━━━━━━━━━━━━━━━━━━━━━━━━━━━━━━━━━━━━━\u001b[0m \u001b[32m3.1/3.1 MB\u001b[0m \u001b[31m25.8 MB/s\u001b[0m eta \u001b[36m0:00:00\u001b[0m\n",
            "\u001b[?25hRequirement already satisfied: numpy>=1.17 in /usr/local/lib/python3.10/dist-packages (from resampy) (1.23.5)\n",
            "Requirement already satisfied: numba>=0.53 in /usr/local/lib/python3.10/dist-packages (from resampy) (0.58.1)\n",
            "Requirement already satisfied: llvmlite<0.42,>=0.41.0dev0 in /usr/local/lib/python3.10/dist-packages (from numba>=0.53->resampy) (0.41.1)\n",
            "Installing collected packages: resampy\n",
            "Successfully installed resampy-0.4.2\n"
          ]
        }
      ],
      "source": [
        "#@markdown # Install Libraries\n",
        "\n",
        "update_apt = True #@param {type:\"boolean\"}\n",
        "install_pyaudio = True #@param {type:\"boolean\"}\n",
        "install_librosa = True #@param {type:\"boolean\"}\n",
        "install_soundfile = True #@param {type:\"boolean\"}\n",
        "install_resampy = True #@param {type:\"boolean\"}\n",
        "\n",
        "if install_librosa:\n",
        "  !pip install librosa\n",
        "\n",
        "if install_soundfile:\n",
        "  !pip install soundfile\n",
        "\n",
        "if update_apt:\n",
        "  !apt-get update\n",
        "\n",
        "if install_pyaudio:\n",
        "  !apt-get install -y python3-pyaudio\n",
        "\n",
        "if install_resampy:\n",
        "  !pip install resampy\n"
      ]
    },
    {
      "cell_type": "markdown",
      "metadata": {
        "id": "Fztnt3w-ir5d"
      },
      "source": [
        "# Importing the required libraries"
      ]
    },
    {
      "cell_type": "code",
      "execution_count": null,
      "metadata": {
        "id": "jovVPzwzGl2d"
      },
      "outputs": [],
      "source": [
        "import librosa\n",
        "import soundfile\n",
        "import glob\n",
        "import pickle\n",
        "from sklearn.model_selection import train_test_split\n",
        "from sklearn.neural_network import MLPClassifier\n",
        "from sklearn.linear_model import LogisticRegression\n",
        "from sklearn.ensemble import RandomForestClassifier\n",
        "from sklearn.svm import SVC\n",
        "from sklearn.tree import DecisionTreeClassifier\n",
        "from sklearn.ensemble import GradientBoostingClassifier\n",
        "from sklearn.neighbors import KNeighborsClassifier\n",
        "from sklearn.metrics import accuracy_score\n",
        "from sklearn.metrics import classification_report\n",
        "from sklearn.metrics import confusion_matrix\n",
        "import joblib\n",
        "import time\n",
        "import datetime"
      ]
    },
    {
      "cell_type": "markdown",
      "metadata": {
        "id": "ZMbZSYPqiy0m"
      },
      "source": [
        "# Extracting features from the audio files\n",
        "Extracting importand data that can be captured from audio files.\n",
        "- MFCC (Mel Frequency Cepstral Coefficient)\n",
        "- CHROMA (Pitch Classes)\n",
        "- MEL (Mel Spectrogram Frequency)"
      ]
    },
    {
      "cell_type": "code",
      "execution_count": null,
      "metadata": {
        "id": "bGVrDwovIc3j"
      },
      "outputs": [],
      "source": [
        "def extract_features(file_name, mfcc, chroma, mel):\n",
        "  X, sample_rate = librosa.load(os.path.join(file_name), res_type=\"kaiser_fast\")\n",
        "\n",
        "  if chroma:\n",
        "    stft = np.abs(librosa.stft(X))\n",
        "  result = np.array([])\n",
        "\n",
        "  if mfcc:\n",
        "    mfccs = np.mean(librosa.feature.mfcc(y=X, sr=sample_rate, n_mfcc=40).T, axis=0)\n",
        "    result = np.hstack((result, mfccs))\n",
        "  if chroma:\n",
        "    chroma = np.mean(librosa.feature.chroma_stft(S=stft, sr=sample_rate).T, axis=0)\n",
        "    result = np.hstack((result, chroma))\n",
        "  if mel:\n",
        "    mel = np.mean(librosa.feature.melspectrogram(y=X, sr=sample_rate).T, axis=0)\n",
        "    result = np.hstack((result, mel))\n",
        "  return result\n"
      ]
    },
    {
      "cell_type": "markdown",
      "metadata": {
        "id": "M0F6b3iQb2VM"
      },
      "source": [
        "<div align=\"center\">\n",
        "\n",
        "<br>\n",
        "<br>\n",
        "<br>\n",
        "<br>\n",
        "\n",
        "# Emotion Recognition\n",
        "\n",
        "In this section, I focus on the task of emotion recognition, which involves identifying and classifying emotions expressed through speech. I explore different approaches to emotion recognition.\n",
        "\n",
        "<br>\n",
        "<br>\n",
        "<br>\n",
        "<br>\n",
        "\n",
        "\n",
        "</div>\n"
      ]
    },
    {
      "cell_type": "markdown",
      "metadata": {
        "id": "KYHZXgxejwqy"
      },
      "source": [
        "# Total unique emotions available in the dataset"
      ]
    },
    {
      "cell_type": "code",
      "execution_count": null,
      "metadata": {
        "colab": {
          "base_uri": "https://localhost:8080/"
        },
        "id": "GsUqmZyPLIXP",
        "outputId": "f1aa9f1a-8caf-49c9-e6fc-a03c4f14fe2a"
      },
      "outputs": [
        {
          "name": "stdout",
          "output_type": "stream",
          "text": [
            "Number of unique emotions: 7\n",
            "Unique emotions: ['angry', 'disgust', 'fear', 'happy', 'neutral', 'sad', 'surprise']\n"
          ]
        }
      ],
      "source": [
        "# Get the number of unique emotions\n",
        "df = pd.read_csv(\"/content/drive/MyDrive/Datasets/Bangla Audio/SUBESCO_CSV.csv\")\n",
        "unique_emotions, num_emotions = df['emotion'].unique(), df['emotion'].nunique()\n",
        "unique_emotions = [i.lower() for i in unique_emotions]\n",
        "unique_emotions.sort()\n",
        "\n",
        "# Print the number of unique emotions\n",
        "print(\"Number of unique emotions:\", num_emotions)\n",
        "\n",
        "# Print the unique emotions\n",
        "print(\"Unique emotions:\", unique_emotions)"
      ]
    },
    {
      "cell_type": "code",
      "execution_count": null,
      "metadata": {
        "id": "RpYbrE-9Zl5J"
      },
      "outputs": [],
      "source": [
        "# NOISE\n",
        "def noise(data):\n",
        "    noise_amp = 0.035*np.random.uniform()*np.amax(data)\n",
        "    data = data + noise_amp*np.random.normal(size=data.shape[0])\n",
        "    return data\n",
        "# STRETCH\n",
        "def stretch(data, rate=0.8):\n",
        "    return librosa.effects.time_stretch(data, rate)\n",
        "# SHIFT\n",
        "def shift(data):\n",
        "    shift_range = int(np.random.uniform(low=-5, high = 5)*1000)\n",
        "    return np.roll(data, shift_range)\n",
        "# PITCH\n",
        "def pitch(data, sampling_rate, pitch_factor=0.7):\n",
        "    return librosa.effects.pitch_shift(data, sampling_rate, pitch_factor)"
      ]
    },
    {
      "cell_type": "markdown",
      "metadata": {
        "id": "4qQMuMCPkJ-e"
      },
      "source": [
        "# Loading the data for feature extraction from the audio files"
      ]
    },
    {
      "cell_type": "code",
      "execution_count": null,
      "metadata": {
        "id": "PH3BNYuKMIxv"
      },
      "outputs": [],
      "source": [
        "def load_data(test_size=0.2, path=\"/content/drive/MyDrive/Datasets/Emotion Recognition for Emergency Calls\"):\n",
        "  x, y = [], []\n",
        "\n",
        "  for file in os.listdir(dataset_path):\n",
        "    file_name = file\n",
        "\n",
        "    # Getting the emotion label\n",
        "    emotion = file_name.split(\"_\")[0].lower()\n",
        "    feature = extract_features(f\"/content/drive/MyDrive/Datasets/Emotion Recognition for Emergency Calls/{file}\", mfcc=True, chroma=True, mel=True)\n",
        "    x.append(feature)\n",
        "    y.append(emotion)\n",
        "\n",
        "\n",
        "\n",
        "\n",
        "  return train_test_split(np.array(x), y, test_size=test_size, train_size=0.75, random_state=9)\n"
      ]
    },
    {
      "cell_type": "markdown",
      "metadata": {
        "id": "geVsVe65kaTZ"
      },
      "source": [
        "# Train test split"
      ]
    },
    {
      "cell_type": "code",
      "execution_count": null,
      "metadata": {
        "cellView": "form",
        "colab": {
          "base_uri": "https://localhost:8080/"
        },
        "id": "fbUjF03kQQqD",
        "outputId": "898f3bd3-fad8-4c21-991c-ba28cddd26d2"
      },
      "outputs": [
        {
          "name": "stdout",
          "output_type": "stream",
          "text": [
            "Locating previously saved train test split data for emotion clf.\n",
            "Found a latest data in /content/drive/MyDrive/Datasets/Emergency Emotiontrain_test_split_for_emotion_1.joblib\n",
            "Train Test Split for Emotion is loaded and saved successfully in 'x_train, x_test, y_train, y_test'.\n",
            "\n",
            "Shapes: (253, 85)\n",
            "Extracted Features: 180\n"
          ]
        }
      ],
      "source": [
        "#@markdown # Extract Features from Audio Files and Train Test Split\n",
        "#@markdown ---\n",
        "\n",
        "#@markdown ## Run Train Test Split and Save the Data\n",
        "run_train_test_split_for_emotion_clf = False #@param {type:\"boolean\"}\n",
        "directory = \"/content/drive/MyDrive/Datasets/Emergency Emotion\"\n",
        "\n",
        "#@markdown If \"run_train_test_split_for_emotion_clf\" is True, a serialized object will be stored in \"/content/drive/MyDrive/Datasets/Emergency Emotion\". Give a file name to store these values \"x_train, x_test, y_train, y_test\".\n",
        "\n",
        "train_test_split_for_emotion_file_name = \"Emergency Emotiontrain_test_split_for_emotion_1\" #@param {type:\"string\"}\n",
        "directory += f\"{train_test_split_for_emotion_file_name}.joblib\"\n",
        "\n",
        "\n",
        "if run_train_test_split_for_emotion_clf:\n",
        "  start_time = time.time()\n",
        "  x_train, x_test, y_train, y_test = load_data(test_size=0.25)\n",
        "  end_time = time.time()\n",
        "\n",
        "  total_time = end_time - start_time\n",
        "  print(\"Total time taken to extract features from the audio files:\", total_time, \"seconds\")\n",
        "\n",
        "  joblib.dump((x_train, x_test, y_train, y_test), directory)\n",
        "  print(f\"Train Test Split for Emotion CLF is serialized and saved in this directory: {directory}\")\n",
        "\n",
        "#@markdown ---\n",
        "#@markdown <br>\n",
        "#@markdown <br>\n",
        "#@markdown <center><b>Or</b></center>\n",
        "#@markdown <br>\n",
        "#@markdown <br>\n",
        "\n",
        "#@markdown ---\n",
        "#@markdown ## Load Existing Train Test Split Data\n",
        "#@markdown When I did my research on emotion classification, I performed a train-test split on the dataset. Later on, I saved the split data using joblib so that I can import it for later use instead of re-performing the split every time. This approach saves time and computational resources.\n",
        "\n",
        "load_emotion_test_split = True #@param {type:\"boolean\"}\n",
        "\n",
        "#@markdown Train Test Split for Emotion will be loaded and saved in 'x_train, x_test, y_train, y_test'.\n",
        "if load_emotion_test_split:\n",
        "  print(\"Locating previously saved train test split data for emotion clf.\")\n",
        "  existing_train_test_split_emotion = \"Emergency Emotiontrain_test_split_for_emotion_1\" #@param {type:\"string\"}\n",
        "  existing_train_test_split_emotion = f\"/content/drive/MyDrive/Datasets/{existing_train_test_split_emotion}.joblib\"\n",
        "  print(f\"Found a latest data in {existing_train_test_split_emotion}\")\n",
        "\n",
        "  x_train, x_test, y_train, y_test = joblib.load(existing_train_test_split_emotion)\n",
        "  print(\"Train Test Split for Emotion is loaded and saved successfully in 'x_train, x_test, y_train, y_test'.\")\n",
        "\n",
        "#@markdown ---\n",
        "\n",
        "print(f\"\\nShapes: {x_train.shape[0], x_test.shape[0]}\")\n",
        "print(f\"Extracted Features: {x_train.shape[1]}\")"
      ]
    },
    {
      "cell_type": "markdown",
      "metadata": {
        "id": "ESzhKZBXk9mL"
      },
      "source": [
        "# **MLPClassifier Model**"
      ]
    },
    {
      "cell_type": "code",
      "execution_count": null,
      "metadata": {
        "id": "K42CjteQarrA"
      },
      "outputs": [],
      "source": [
        "# Confirmed hyperparameters after several tunings\n",
        "model_MLP = MLPClassifier(alpha=0.01, batch_size=256, epsilon=1e-08, hidden_layer_sizes=(300, ), learning_rate=\"adaptive\", max_iter=500)"
      ]
    },
    {
      "cell_type": "markdown",
      "metadata": {
        "id": "8rx-9z_IlIhc"
      },
      "source": [
        "# Train the Model"
      ]
    },
    {
      "cell_type": "code",
      "execution_count": null,
      "metadata": {
        "colab": {
          "base_uri": "https://localhost:8080/",
          "height": 127
        },
        "id": "GTPYNOZ5bBzh",
        "outputId": "81122849-77da-42e9-fd81-98ea34a3d4dd"
      },
      "outputs": [
        {
          "name": "stderr",
          "output_type": "stream",
          "text": [
            "/usr/local/lib/python3.10/dist-packages/sklearn/neural_network/_multilayer_perceptron.py:605: UserWarning: Got `batch_size` less than 1 or larger than sample size. It is going to be clipped\n",
            "  warnings.warn(\n"
          ]
        },
        {
          "data": {
            "text/html": [
              "<style>#sk-container-id-1 {color: black;background-color: white;}#sk-container-id-1 pre{padding: 0;}#sk-container-id-1 div.sk-toggleable {background-color: white;}#sk-container-id-1 label.sk-toggleable__label {cursor: pointer;display: block;width: 100%;margin-bottom: 0;padding: 0.3em;box-sizing: border-box;text-align: center;}#sk-container-id-1 label.sk-toggleable__label-arrow:before {content: \"▸\";float: left;margin-right: 0.25em;color: #696969;}#sk-container-id-1 label.sk-toggleable__label-arrow:hover:before {color: black;}#sk-container-id-1 div.sk-estimator:hover label.sk-toggleable__label-arrow:before {color: black;}#sk-container-id-1 div.sk-toggleable__content {max-height: 0;max-width: 0;overflow: hidden;text-align: left;background-color: #f0f8ff;}#sk-container-id-1 div.sk-toggleable__content pre {margin: 0.2em;color: black;border-radius: 0.25em;background-color: #f0f8ff;}#sk-container-id-1 input.sk-toggleable__control:checked~div.sk-toggleable__content {max-height: 200px;max-width: 100%;overflow: auto;}#sk-container-id-1 input.sk-toggleable__control:checked~label.sk-toggleable__label-arrow:before {content: \"▾\";}#sk-container-id-1 div.sk-estimator input.sk-toggleable__control:checked~label.sk-toggleable__label {background-color: #d4ebff;}#sk-container-id-1 div.sk-label input.sk-toggleable__control:checked~label.sk-toggleable__label {background-color: #d4ebff;}#sk-container-id-1 input.sk-hidden--visually {border: 0;clip: rect(1px 1px 1px 1px);clip: rect(1px, 1px, 1px, 1px);height: 1px;margin: -1px;overflow: hidden;padding: 0;position: absolute;width: 1px;}#sk-container-id-1 div.sk-estimator {font-family: monospace;background-color: #f0f8ff;border: 1px dotted black;border-radius: 0.25em;box-sizing: border-box;margin-bottom: 0.5em;}#sk-container-id-1 div.sk-estimator:hover {background-color: #d4ebff;}#sk-container-id-1 div.sk-parallel-item::after {content: \"\";width: 100%;border-bottom: 1px solid gray;flex-grow: 1;}#sk-container-id-1 div.sk-label:hover label.sk-toggleable__label {background-color: #d4ebff;}#sk-container-id-1 div.sk-serial::before {content: \"\";position: absolute;border-left: 1px solid gray;box-sizing: border-box;top: 0;bottom: 0;left: 50%;z-index: 0;}#sk-container-id-1 div.sk-serial {display: flex;flex-direction: column;align-items: center;background-color: white;padding-right: 0.2em;padding-left: 0.2em;position: relative;}#sk-container-id-1 div.sk-item {position: relative;z-index: 1;}#sk-container-id-1 div.sk-parallel {display: flex;align-items: stretch;justify-content: center;background-color: white;position: relative;}#sk-container-id-1 div.sk-item::before, #sk-container-id-1 div.sk-parallel-item::before {content: \"\";position: absolute;border-left: 1px solid gray;box-sizing: border-box;top: 0;bottom: 0;left: 50%;z-index: -1;}#sk-container-id-1 div.sk-parallel-item {display: flex;flex-direction: column;z-index: 1;position: relative;background-color: white;}#sk-container-id-1 div.sk-parallel-item:first-child::after {align-self: flex-end;width: 50%;}#sk-container-id-1 div.sk-parallel-item:last-child::after {align-self: flex-start;width: 50%;}#sk-container-id-1 div.sk-parallel-item:only-child::after {width: 0;}#sk-container-id-1 div.sk-dashed-wrapped {border: 1px dashed gray;margin: 0 0.4em 0.5em 0.4em;box-sizing: border-box;padding-bottom: 0.4em;background-color: white;}#sk-container-id-1 div.sk-label label {font-family: monospace;font-weight: bold;display: inline-block;line-height: 1.2em;}#sk-container-id-1 div.sk-label-container {text-align: center;}#sk-container-id-1 div.sk-container {/* jupyter's `normalize.less` sets `[hidden] { display: none; }` but bootstrap.min.css set `[hidden] { display: none !important; }` so we also need the `!important` here to be able to override the default hidden behavior on the sphinx rendered scikit-learn.org. See: https://github.com/scikit-learn/scikit-learn/issues/21755 */display: inline-block !important;position: relative;}#sk-container-id-1 div.sk-text-repr-fallback {display: none;}</style><div id=\"sk-container-id-1\" class=\"sk-top-container\"><div class=\"sk-text-repr-fallback\"><pre>MLPClassifier(alpha=0.01, batch_size=256, hidden_layer_sizes=(300,),\n",
              "              learning_rate=&#x27;adaptive&#x27;, max_iter=500)</pre><b>In a Jupyter environment, please rerun this cell to show the HTML representation or trust the notebook. <br />On GitHub, the HTML representation is unable to render, please try loading this page with nbviewer.org.</b></div><div class=\"sk-container\" hidden><div class=\"sk-item\"><div class=\"sk-estimator sk-toggleable\"><input class=\"sk-toggleable__control sk-hidden--visually\" id=\"sk-estimator-id-1\" type=\"checkbox\" checked><label for=\"sk-estimator-id-1\" class=\"sk-toggleable__label sk-toggleable__label-arrow\">MLPClassifier</label><div class=\"sk-toggleable__content\"><pre>MLPClassifier(alpha=0.01, batch_size=256, hidden_layer_sizes=(300,),\n",
              "              learning_rate=&#x27;adaptive&#x27;, max_iter=500)</pre></div></div></div></div></div>"
            ],
            "text/plain": [
              "MLPClassifier(alpha=0.01, batch_size=256, hidden_layer_sizes=(300,),\n",
              "              learning_rate='adaptive', max_iter=500)"
            ]
          },
          "execution_count": 18,
          "metadata": {},
          "output_type": "execute_result"
        }
      ],
      "source": [
        "model_MLP.fit(x_train, y_train)"
      ]
    },
    {
      "cell_type": "markdown",
      "metadata": {
        "id": "I2JhvOYMlPSG"
      },
      "source": [
        "# Model evaluation"
      ]
    },
    {
      "cell_type": "code",
      "execution_count": null,
      "metadata": {
        "colab": {
          "base_uri": "https://localhost:8080/"
        },
        "id": "_7ddx9CWblUc",
        "outputId": "a8cfa8ec-d0ea-45c6-b935-b0b5e676f98a"
      },
      "outputs": [
        {
          "name": "stdout",
          "output_type": "stream",
          "text": [
            "Accuracy using MLP model: 56.47%\n",
            "\n",
            "              precision    recall  f1-score   support\n",
            "\n",
            "          01       0.53      0.81      0.64        21\n",
            "          02       0.73      0.69      0.71        16\n",
            "          03       0.50      0.36      0.42        25\n",
            "          04       0.55      0.48      0.51        23\n",
            "\n",
            "    accuracy                           0.56        85\n",
            "   macro avg       0.58      0.58      0.57        85\n",
            "weighted avg       0.57      0.56      0.55        85\n",
            "\n"
          ]
        }
      ],
      "source": [
        "y_pred = model_MLP.predict(x_test)\n",
        "\n",
        "accuracy = accuracy_score(y_true=y_test, y_pred=y_pred)\n",
        "print(f\"Accuracy using MLP model: {accuracy * 100 :.2f}%\\n\")\n",
        "\n",
        "print(classification_report(y_test, y_pred))"
      ]
    },
    {
      "cell_type": "code",
      "execution_count": null,
      "metadata": {
        "id": "83q7OTp3wkfz"
      },
      "outputs": [],
      "source": [
        "def draw_confusion_matrix(y_TEST, y_PRED, classes=[1, 2, 3, 4], model_name=\"\", x_axis_rotation=False):\n",
        "  # Generating the confusion matrix\n",
        "  cm = confusion_matrix(y_TEST, y_PRED)\n",
        "\n",
        "  # Normalizing the confusion matrix\n",
        "  cm_norm = cm.astype('float') / cm.sum(axis=1)[:, np.newaxis]\n",
        "\n",
        "  # plot the confusion matrix\n",
        "  fig, ax = plt.subplots(figsize=(8, 8))\n",
        "  im = ax.imshow(cm_norm, interpolation='nearest', cmap=plt.cm.Blues)\n",
        "  ax.set(xticks=np.arange(cm_norm.shape[1]),\n",
        "         yticks=np.arange(cm_norm.shape[0]),\n",
        "         xticklabels=classes, yticklabels=classes,\n",
        "         title=f\"Confusion Matrix of {model_name} Model\",\n",
        "         ylabel='True label',\n",
        "         xlabel='Predicted label')\n",
        "\n",
        "  if x_axis_rotation:\n",
        "    # Rotate the x-axis labels by 45 degrees\n",
        "    plt.setp(ax.get_xticklabels(), rotation=45, ha=\"right\", rotation_mode=\"anchor\")\n",
        "\n",
        "  # Add color bar\n",
        "  fig.colorbar(im)\n",
        "\n",
        "  # Loop over data to create annotations\n",
        "  for i in range(cm_norm.shape[0]):\n",
        "    for j in range(cm_norm.shape[1]):\n",
        "      ax.text(j, i, format(cm[i, j], 'd'),\n",
        "              ha=\"center\", va=\"center\",\n",
        "              color=\"white\" if cm_norm[i, j] > 0.5 else \"black\")\n",
        "\n",
        "  plt.savefig('SER_CM.tiff', dpi=300, format='tiff')\n",
        "\n",
        "  plt.show()"
      ]
    },
    {
      "cell_type": "code",
      "execution_count": null,
      "metadata": {
        "colab": {
          "base_uri": "https://localhost:8080/",
          "height": 661
        },
        "id": "XiB2nWQ4x8qc",
        "outputId": "291440ac-3998-45ca-c259-396ae7566cd6"
      },
      "outputs": [
        {
          "data": {
            "image/png": "[encoded data removed]",
            "text/plain": [
              "<Figure size 800x800 with 2 Axes>"
            ]
          },
          "metadata": {},
          "output_type": "display_data"
        }
      ],
      "source": [
        "draw_confusion_matrix(y_test, y_pred, model_name=\"MLP Classifier\")"
      ]
    },
    {
      "cell_type": "markdown",
      "metadata": {
        "id": "lZnvwb5pyUgO"
      },
      "source": [
        "# **Logistic Regression Model**"
      ]
    },
    {
      "cell_type": "code",
      "execution_count": null,
      "metadata": {
        "id": "Qqd0-L3_Bv3t"
      },
      "outputs": [],
      "source": [
        "# Confirmed hyperparameters after several tunings\n",
        "model_LR = LogisticRegression(C=5, solver='lbfgs', class_weight='balanced', max_iter=10000)"
      ]
    },
    {
      "cell_type": "markdown",
      "metadata": {
        "id": "XFqdfLXiCE_9"
      },
      "source": [
        "# Train the Model"
      ]
    },
    {
      "cell_type": "code",
      "execution_count": null,
      "metadata": {
        "colab": {
          "base_uri": "https://localhost:8080/",
          "height": 214
        },
        "id": "-cWX6RR2CHlH",
        "outputId": "66f35d6c-b76d-4841-e926-d3c49ece98db"
      },
      "outputs": [
        {
          "name": "stderr",
          "output_type": "stream",
          "text": [
            "/usr/local/lib/python3.10/dist-packages/sklearn/linear_model/_logistic.py:458: ConvergenceWarning: lbfgs failed to converge (status=1):\n",
            "STOP: TOTAL NO. of ITERATIONS REACHED LIMIT.\n",
            "\n",
            "Increase the number of iterations (max_iter) or scale the data as shown in:\n",
            "    https://scikit-learn.org/stable/modules/preprocessing.html\n",
            "Please also refer to the documentation for alternative solver options:\n",
            "    https://scikit-learn.org/stable/modules/linear_model.html#logistic-regression\n",
            "  n_iter_i = _check_optimize_result(\n"
          ]
        },
        {
          "data": {
            "text/html": [
              "<style>#sk-container-id-2 {color: black;background-color: white;}#sk-container-id-2 pre{padding: 0;}#sk-container-id-2 div.sk-toggleable {background-color: white;}#sk-container-id-2 label.sk-toggleable__label {cursor: pointer;display: block;width: 100%;margin-bottom: 0;padding: 0.3em;box-sizing: border-box;text-align: center;}#sk-container-id-2 label.sk-toggleable__label-arrow:before {content: \"▸\";float: left;margin-right: 0.25em;color: #696969;}#sk-container-id-2 label.sk-toggleable__label-arrow:hover:before {color: black;}#sk-container-id-2 div.sk-estimator:hover label.sk-toggleable__label-arrow:before {color: black;}#sk-container-id-2 div.sk-toggleable__content {max-height: 0;max-width: 0;overflow: hidden;text-align: left;background-color: #f0f8ff;}#sk-container-id-2 div.sk-toggleable__content pre {margin: 0.2em;color: black;border-radius: 0.25em;background-color: #f0f8ff;}#sk-container-id-2 input.sk-toggleable__control:checked~div.sk-toggleable__content {max-height: 200px;max-width: 100%;overflow: auto;}#sk-container-id-2 input.sk-toggleable__control:checked~label.sk-toggleable__label-arrow:before {content: \"▾\";}#sk-container-id-2 div.sk-estimator input.sk-toggleable__control:checked~label.sk-toggleable__label {background-color: #d4ebff;}#sk-container-id-2 div.sk-label input.sk-toggleable__control:checked~label.sk-toggleable__label {background-color: #d4ebff;}#sk-container-id-2 input.sk-hidden--visually {border: 0;clip: rect(1px 1px 1px 1px);clip: rect(1px, 1px, 1px, 1px);height: 1px;margin: -1px;overflow: hidden;padding: 0;position: absolute;width: 1px;}#sk-container-id-2 div.sk-estimator {font-family: monospace;background-color: #f0f8ff;border: 1px dotted black;border-radius: 0.25em;box-sizing: border-box;margin-bottom: 0.5em;}#sk-container-id-2 div.sk-estimator:hover {background-color: #d4ebff;}#sk-container-id-2 div.sk-parallel-item::after {content: \"\";width: 100%;border-bottom: 1px solid gray;flex-grow: 1;}#sk-container-id-2 div.sk-label:hover label.sk-toggleable__label {background-color: #d4ebff;}#sk-container-id-2 div.sk-serial::before {content: \"\";position: absolute;border-left: 1px solid gray;box-sizing: border-box;top: 0;bottom: 0;left: 50%;z-index: 0;}#sk-container-id-2 div.sk-serial {display: flex;flex-direction: column;align-items: center;background-color: white;padding-right: 0.2em;padding-left: 0.2em;position: relative;}#sk-container-id-2 div.sk-item {position: relative;z-index: 1;}#sk-container-id-2 div.sk-parallel {display: flex;align-items: stretch;justify-content: center;background-color: white;position: relative;}#sk-container-id-2 div.sk-item::before, #sk-container-id-2 div.sk-parallel-item::before {content: \"\";position: absolute;border-left: 1px solid gray;box-sizing: border-box;top: 0;bottom: 0;left: 50%;z-index: -1;}#sk-container-id-2 div.sk-parallel-item {display: flex;flex-direction: column;z-index: 1;position: relative;background-color: white;}#sk-container-id-2 div.sk-parallel-item:first-child::after {align-self: flex-end;width: 50%;}#sk-container-id-2 div.sk-parallel-item:last-child::after {align-self: flex-start;width: 50%;}#sk-container-id-2 div.sk-parallel-item:only-child::after {width: 0;}#sk-container-id-2 div.sk-dashed-wrapped {border: 1px dashed gray;margin: 0 0.4em 0.5em 0.4em;box-sizing: border-box;padding-bottom: 0.4em;background-color: white;}#sk-container-id-2 div.sk-label label {font-family: monospace;font-weight: bold;display: inline-block;line-height: 1.2em;}#sk-container-id-2 div.sk-label-container {text-align: center;}#sk-container-id-2 div.sk-container {/* jupyter's `normalize.less` sets `[hidden] { display: none; }` but bootstrap.min.css set `[hidden] { display: none !important; }` so we also need the `!important` here to be able to override the default hidden behavior on the sphinx rendered scikit-learn.org. See: https://github.com/scikit-learn/scikit-learn/issues/21755 */display: inline-block !important;position: relative;}#sk-container-id-2 div.sk-text-repr-fallback {display: none;}</style><div id=\"sk-container-id-2\" class=\"sk-top-container\"><div class=\"sk-text-repr-fallback\"><pre>LogisticRegression(C=5, class_weight=&#x27;balanced&#x27;, max_iter=10000)</pre><b>In a Jupyter environment, please rerun this cell to show the HTML representation or trust the notebook. <br />On GitHub, the HTML representation is unable to render, please try loading this page with nbviewer.org.</b></div><div class=\"sk-container\" hidden><div class=\"sk-item\"><div class=\"sk-estimator sk-toggleable\"><input class=\"sk-toggleable__control sk-hidden--visually\" id=\"sk-estimator-id-2\" type=\"checkbox\" checked><label for=\"sk-estimator-id-2\" class=\"sk-toggleable__label sk-toggleable__label-arrow\">LogisticRegression</label><div class=\"sk-toggleable__content\"><pre>LogisticRegression(C=5, class_weight=&#x27;balanced&#x27;, max_iter=10000)</pre></div></div></div></div></div>"
            ],
            "text/plain": [
              "LogisticRegression(C=5, class_weight='balanced', max_iter=10000)"
            ]
          },
          "execution_count": 18,
          "metadata": {},
          "output_type": "execute_result"
        }
      ],
      "source": [
        "model_LR.fit(x_train, y_train)"
      ]
    },
    {
      "cell_type": "markdown",
      "metadata": {
        "id": "4sHM2-BOCM8X"
      },
      "source": [
        "# Model evaluation"
      ]
    },
    {
      "cell_type": "code",
      "execution_count": null,
      "metadata": {
        "colab": {
          "base_uri": "https://localhost:8080/",
          "height": 892
        },
        "id": "0g7CTC1_snqJ",
        "outputId": "04fc18b8-24d7-4e22-df76-a375ae3b8553"
      },
      "outputs": [
        {
          "name": "stdout",
          "output_type": "stream",
          "text": [
            "Accuracy using Logistic Regression model: 45.88%\n",
            "\n",
            "              precision    recall  f1-score   support\n",
            "\n",
            "          01       0.50      0.48      0.49        21\n",
            "          02       0.62      0.50      0.55        16\n",
            "          03       0.44      0.44      0.44        25\n",
            "          04       0.37      0.43      0.40        23\n",
            "\n",
            "    accuracy                           0.46        85\n",
            "   macro avg       0.48      0.46      0.47        85\n",
            "weighted avg       0.47      0.46      0.46        85\n",
            "\n"
          ]
        },
        {
          "data": {
            "image/png": "[encoded data removed]",
            "text/plain": [
              "<Figure size 800x800 with 2 Axes>"
            ]
          },
          "metadata": {},
          "output_type": "display_data"
        }
      ],
      "source": [
        "y_pred = model_LR.predict(x_test)\n",
        "\n",
        "accuracy = accuracy_score(y_true=y_test, y_pred=y_pred)\n",
        "print(f\"Accuracy using Logistic Regression model: {accuracy * 100 :.2f}%\\n\")\n",
        "\n",
        "print(classification_report(y_test, y_pred))\n",
        "draw_confusion_matrix(y_test, y_pred, model_name=\"Logistic Regression\")"
      ]
    },
    {
      "cell_type": "markdown",
      "metadata": {
        "id": "0smCAyuGNXSD"
      },
      "source": [
        "# **Random Forest Classifier Model**"
      ]
    },
    {
      "cell_type": "code",
      "execution_count": null,
      "metadata": {
        "id": "paM_d2uBNtra"
      },
      "outputs": [],
      "source": [
        "model_RFC = RandomForestClassifier(n_estimators=100, random_state=42)"
      ]
    },
    {
      "cell_type": "markdown",
      "metadata": {
        "id": "Uqnvpr6jNnUc"
      },
      "source": [
        "# Train the Model"
      ]
    },
    {
      "cell_type": "code",
      "execution_count": null,
      "metadata": {
        "colab": {
          "base_uri": "https://localhost:8080/",
          "height": 75
        },
        "id": "SetYhiI8NwWU",
        "outputId": "b57ab0ed-6138-444e-b8e6-71d6fc7f37ae"
      },
      "outputs": [
        {
          "data": {
            "text/html": [
              "<style>#sk-container-id-3 {color: black;background-color: white;}#sk-container-id-3 pre{padding: 0;}#sk-container-id-3 div.sk-toggleable {background-color: white;}#sk-container-id-3 label.sk-toggleable__label {cursor: pointer;display: block;width: 100%;margin-bottom: 0;padding: 0.3em;box-sizing: border-box;text-align: center;}#sk-container-id-3 label.sk-toggleable__label-arrow:before {content: \"▸\";float: left;margin-right: 0.25em;color: #696969;}#sk-container-id-3 label.sk-toggleable__label-arrow:hover:before {color: black;}#sk-container-id-3 div.sk-estimator:hover label.sk-toggleable__label-arrow:before {color: black;}#sk-container-id-3 div.sk-toggleable__content {max-height: 0;max-width: 0;overflow: hidden;text-align: left;background-color: #f0f8ff;}#sk-container-id-3 div.sk-toggleable__content pre {margin: 0.2em;color: black;border-radius: 0.25em;background-color: #f0f8ff;}#sk-container-id-3 input.sk-toggleable__control:checked~div.sk-toggleable__content {max-height: 200px;max-width: 100%;overflow: auto;}#sk-container-id-3 input.sk-toggleable__control:checked~label.sk-toggleable__label-arrow:before {content: \"▾\";}#sk-container-id-3 div.sk-estimator input.sk-toggleable__control:checked~label.sk-toggleable__label {background-color: #d4ebff;}#sk-container-id-3 div.sk-label input.sk-toggleable__control:checked~label.sk-toggleable__label {background-color: #d4ebff;}#sk-container-id-3 input.sk-hidden--visually {border: 0;clip: rect(1px 1px 1px 1px);clip: rect(1px, 1px, 1px, 1px);height: 1px;margin: -1px;overflow: hidden;padding: 0;position: absolute;width: 1px;}#sk-container-id-3 div.sk-estimator {font-family: monospace;background-color: #f0f8ff;border: 1px dotted black;border-radius: 0.25em;box-sizing: border-box;margin-bottom: 0.5em;}#sk-container-id-3 div.sk-estimator:hover {background-color: #d4ebff;}#sk-container-id-3 div.sk-parallel-item::after {content: \"\";width: 100%;border-bottom: 1px solid gray;flex-grow: 1;}#sk-container-id-3 div.sk-label:hover label.sk-toggleable__label {background-color: #d4ebff;}#sk-container-id-3 div.sk-serial::before {content: \"\";position: absolute;border-left: 1px solid gray;box-sizing: border-box;top: 0;bottom: 0;left: 50%;z-index: 0;}#sk-container-id-3 div.sk-serial {display: flex;flex-direction: column;align-items: center;background-color: white;padding-right: 0.2em;padding-left: 0.2em;position: relative;}#sk-container-id-3 div.sk-item {position: relative;z-index: 1;}#sk-container-id-3 div.sk-parallel {display: flex;align-items: stretch;justify-content: center;background-color: white;position: relative;}#sk-container-id-3 div.sk-item::before, #sk-container-id-3 div.sk-parallel-item::before {content: \"\";position: absolute;border-left: 1px solid gray;box-sizing: border-box;top: 0;bottom: 0;left: 50%;z-index: -1;}#sk-container-id-3 div.sk-parallel-item {display: flex;flex-direction: column;z-index: 1;position: relative;background-color: white;}#sk-container-id-3 div.sk-parallel-item:first-child::after {align-self: flex-end;width: 50%;}#sk-container-id-3 div.sk-parallel-item:last-child::after {align-self: flex-start;width: 50%;}#sk-container-id-3 div.sk-parallel-item:only-child::after {width: 0;}#sk-container-id-3 div.sk-dashed-wrapped {border: 1px dashed gray;margin: 0 0.4em 0.5em 0.4em;box-sizing: border-box;padding-bottom: 0.4em;background-color: white;}#sk-container-id-3 div.sk-label label {font-family: monospace;font-weight: bold;display: inline-block;line-height: 1.2em;}#sk-container-id-3 div.sk-label-container {text-align: center;}#sk-container-id-3 div.sk-container {/* jupyter's `normalize.less` sets `[hidden] { display: none; }` but bootstrap.min.css set `[hidden] { display: none !important; }` so we also need the `!important` here to be able to override the default hidden behavior on the sphinx rendered scikit-learn.org. See: https://github.com/scikit-learn/scikit-learn/issues/21755 */display: inline-block !important;position: relative;}#sk-container-id-3 div.sk-text-repr-fallback {display: none;}</style><div id=\"sk-container-id-3\" class=\"sk-top-container\"><div class=\"sk-text-repr-fallback\"><pre>RandomForestClassifier(random_state=42)</pre><b>In a Jupyter environment, please rerun this cell to show the HTML representation or trust the notebook. <br />On GitHub, the HTML representation is unable to render, please try loading this page with nbviewer.org.</b></div><div class=\"sk-container\" hidden><div class=\"sk-item\"><div class=\"sk-estimator sk-toggleable\"><input class=\"sk-toggleable__control sk-hidden--visually\" id=\"sk-estimator-id-3\" type=\"checkbox\" checked><label for=\"sk-estimator-id-3\" class=\"sk-toggleable__label sk-toggleable__label-arrow\">RandomForestClassifier</label><div class=\"sk-toggleable__content\"><pre>RandomForestClassifier(random_state=42)</pre></div></div></div></div></div>"
            ],
            "text/plain": [
              "RandomForestClassifier(random_state=42)"
            ]
          },
          "execution_count": 21,
          "metadata": {},
          "output_type": "execute_result"
        }
      ],
      "source": [
        "model_RFC.fit(x_train, y_train)"
      ]
    },
    {
      "cell_type": "markdown",
      "metadata": {
        "id": "qRbTYr7QOeXc"
      },
      "source": [
        "# Model evaluation"
      ]
    },
    {
      "cell_type": "code",
      "execution_count": null,
      "metadata": {
        "colab": {
          "base_uri": "https://localhost:8080/",
          "height": 887
        },
        "id": "x73WwnZWxdpV",
        "outputId": "0138a95d-1afb-490b-dd3e-a3e5da31539f"
      },
      "outputs": [
        {
          "name": "stdout",
          "output_type": "stream",
          "text": [
            "Accuracy using Random Forest Classifier model: 51.76%\n",
            "\n",
            "              precision    recall  f1-score   support\n",
            "\n",
            "          01       0.55      0.86      0.67        21\n",
            "          02       0.65      0.94      0.77        16\n",
            "          03       0.38      0.20      0.26        25\n",
            "          04       0.38      0.26      0.31        23\n",
            "\n",
            "    accuracy                           0.52        85\n",
            "   macro avg       0.49      0.56      0.50        85\n",
            "weighted avg       0.47      0.52      0.47        85\n",
            "\n"
          ]
        },
        {
          "data": {
            "image/png": "[encoded data removed]",
            "text/plain": [
              "<Figure size 800x800 with 2 Axes>"
            ]
          },
          "metadata": {},
          "output_type": "display_data"
        }
      ],
      "source": [
        "y_pred = model_RFC.predict(x_test)\n",
        "\n",
        "accuracy = accuracy_score(y_true=y_test, y_pred=y_pred)\n",
        "print(f\"Accuracy using Random Forest Classifier model: {accuracy * 100 :.2f}%\\n\")\n",
        "\n",
        "print(classification_report(y_test, y_pred))\n",
        "draw_confusion_matrix(y_test, y_pred, model_name=\"Random Forest Classifier\")"
      ]
    },
    {
      "cell_type": "markdown",
      "metadata": {
        "id": "DQu3nTgK8RZC"
      },
      "source": [
        "# **SVM Model**"
      ]
    },
    {
      "cell_type": "code",
      "execution_count": null,
      "metadata": {
        "id": "rSxdxikFm8Pf"
      },
      "outputs": [],
      "source": [
        "# Confirmed hyperparameters after several tunings\n",
        "model_SVM = SVC(C=144, max_iter=100000)"
      ]
    },
    {
      "cell_type": "markdown",
      "metadata": {
        "id": "yf_-5fD68ZzQ"
      },
      "source": [
        "# Train the Model"
      ]
    },
    {
      "cell_type": "code",
      "execution_count": null,
      "metadata": {
        "colab": {
          "base_uri": "https://localhost:8080/",
          "height": 75
        },
        "id": "UVx4SNvv8di8",
        "outputId": "2f97cc81-2058-42e0-cdd3-00e58f561993"
      },
      "outputs": [
        {
          "data": {
            "text/html": [
              "<style>#sk-container-id-4 {color: black;background-color: white;}#sk-container-id-4 pre{padding: 0;}#sk-container-id-4 div.sk-toggleable {background-color: white;}#sk-container-id-4 label.sk-toggleable__label {cursor: pointer;display: block;width: 100%;margin-bottom: 0;padding: 0.3em;box-sizing: border-box;text-align: center;}#sk-container-id-4 label.sk-toggleable__label-arrow:before {content: \"▸\";float: left;margin-right: 0.25em;color: #696969;}#sk-container-id-4 label.sk-toggleable__label-arrow:hover:before {color: black;}#sk-container-id-4 div.sk-estimator:hover label.sk-toggleable__label-arrow:before {color: black;}#sk-container-id-4 div.sk-toggleable__content {max-height: 0;max-width: 0;overflow: hidden;text-align: left;background-color: #f0f8ff;}#sk-container-id-4 div.sk-toggleable__content pre {margin: 0.2em;color: black;border-radius: 0.25em;background-color: #f0f8ff;}#sk-container-id-4 input.sk-toggleable__control:checked~div.sk-toggleable__content {max-height: 200px;max-width: 100%;overflow: auto;}#sk-container-id-4 input.sk-toggleable__control:checked~label.sk-toggleable__label-arrow:before {content: \"▾\";}#sk-container-id-4 div.sk-estimator input.sk-toggleable__control:checked~label.sk-toggleable__label {background-color: #d4ebff;}#sk-container-id-4 div.sk-label input.sk-toggleable__control:checked~label.sk-toggleable__label {background-color: #d4ebff;}#sk-container-id-4 input.sk-hidden--visually {border: 0;clip: rect(1px 1px 1px 1px);clip: rect(1px, 1px, 1px, 1px);height: 1px;margin: -1px;overflow: hidden;padding: 0;position: absolute;width: 1px;}#sk-container-id-4 div.sk-estimator {font-family: monospace;background-color: #f0f8ff;border: 1px dotted black;border-radius: 0.25em;box-sizing: border-box;margin-bottom: 0.5em;}#sk-container-id-4 div.sk-estimator:hover {background-color: #d4ebff;}#sk-container-id-4 div.sk-parallel-item::after {content: \"\";width: 100%;border-bottom: 1px solid gray;flex-grow: 1;}#sk-container-id-4 div.sk-label:hover label.sk-toggleable__label {background-color: #d4ebff;}#sk-container-id-4 div.sk-serial::before {content: \"\";position: absolute;border-left: 1px solid gray;box-sizing: border-box;top: 0;bottom: 0;left: 50%;z-index: 0;}#sk-container-id-4 div.sk-serial {display: flex;flex-direction: column;align-items: center;background-color: white;padding-right: 0.2em;padding-left: 0.2em;position: relative;}#sk-container-id-4 div.sk-item {position: relative;z-index: 1;}#sk-container-id-4 div.sk-parallel {display: flex;align-items: stretch;justify-content: center;background-color: white;position: relative;}#sk-container-id-4 div.sk-item::before, #sk-container-id-4 div.sk-parallel-item::before {content: \"\";position: absolute;border-left: 1px solid gray;box-sizing: border-box;top: 0;bottom: 0;left: 50%;z-index: -1;}#sk-container-id-4 div.sk-parallel-item {display: flex;flex-direction: column;z-index: 1;position: relative;background-color: white;}#sk-container-id-4 div.sk-parallel-item:first-child::after {align-self: flex-end;width: 50%;}#sk-container-id-4 div.sk-parallel-item:last-child::after {align-self: flex-start;width: 50%;}#sk-container-id-4 div.sk-parallel-item:only-child::after {width: 0;}#sk-container-id-4 div.sk-dashed-wrapped {border: 1px dashed gray;margin: 0 0.4em 0.5em 0.4em;box-sizing: border-box;padding-bottom: 0.4em;background-color: white;}#sk-container-id-4 div.sk-label label {font-family: monospace;font-weight: bold;display: inline-block;line-height: 1.2em;}#sk-container-id-4 div.sk-label-container {text-align: center;}#sk-container-id-4 div.sk-container {/* jupyter's `normalize.less` sets `[hidden] { display: none; }` but bootstrap.min.css set `[hidden] { display: none !important; }` so we also need the `!important` here to be able to override the default hidden behavior on the sphinx rendered scikit-learn.org. See: https://github.com/scikit-learn/scikit-learn/issues/21755 */display: inline-block !important;position: relative;}#sk-container-id-4 div.sk-text-repr-fallback {display: none;}</style><div id=\"sk-container-id-4\" class=\"sk-top-container\"><div class=\"sk-text-repr-fallback\"><pre>SVC(C=144, max_iter=100000)</pre><b>In a Jupyter environment, please rerun this cell to show the HTML representation or trust the notebook. <br />On GitHub, the HTML representation is unable to render, please try loading this page with nbviewer.org.</b></div><div class=\"sk-container\" hidden><div class=\"sk-item\"><div class=\"sk-estimator sk-toggleable\"><input class=\"sk-toggleable__control sk-hidden--visually\" id=\"sk-estimator-id-4\" type=\"checkbox\" checked><label for=\"sk-estimator-id-4\" class=\"sk-toggleable__label sk-toggleable__label-arrow\">SVC</label><div class=\"sk-toggleable__content\"><pre>SVC(C=144, max_iter=100000)</pre></div></div></div></div></div>"
            ],
            "text/plain": [
              "SVC(C=144, max_iter=100000)"
            ]
          },
          "execution_count": 24,
          "metadata": {},
          "output_type": "execute_result"
        }
      ],
      "source": [
        "model_SVM.fit(x_train, y_train)"
      ]
    },
    {
      "cell_type": "markdown",
      "metadata": {
        "id": "a_dtlJqP8hKH"
      },
      "source": [
        "# Model evaluation"
      ]
    },
    {
      "cell_type": "code",
      "execution_count": null,
      "metadata": {
        "colab": {
          "base_uri": "https://localhost:8080/",
          "height": 879
        },
        "id": "GPcbkSH08paR",
        "outputId": "36f1414c-61e3-4ff5-9932-214a47b922ac"
      },
      "outputs": [
        {
          "name": "stdout",
          "output_type": "stream",
          "text": [
            "Accuracy using SVM model: 47.06%\n",
            "\n",
            "              precision    recall  f1-score   support\n",
            "\n",
            "          01       0.43      0.57      0.49        21\n",
            "          02       0.53      0.50      0.52        16\n",
            "          03       0.52      0.44      0.48        25\n",
            "          04       0.43      0.39      0.41        23\n",
            "\n",
            "    accuracy                           0.47        85\n",
            "   macro avg       0.48      0.48      0.47        85\n",
            "weighted avg       0.48      0.47      0.47        85\n",
            "\n"
          ]
        },
        {
          "data": {
            "image/png": "[encoded data removed]",
            "text/plain": [
              "<Figure size 800x800 with 2 Axes>"
            ]
          },
          "metadata": {},
          "output_type": "display_data"
        }
      ],
      "source": [
        "y_pred = model_SVM.predict(x_test)\n",
        "\n",
        "accuracy = accuracy_score(y_true=y_test, y_pred=y_pred)\n",
        "print(f\"Accuracy using SVM model: {accuracy * 100 :.2f}%\\n\")\n",
        "\n",
        "print(classification_report(y_test, y_pred))\n",
        "draw_confusion_matrix(y_test, y_pred, model_name=\"SVM\")"
      ]
    },
    {
      "cell_type": "markdown",
      "metadata": {
        "id": "mLmpFHvoM4_s"
      },
      "source": [
        "# **Gradient Boosting Classifier Model**"
      ]
    },
    {
      "cell_type": "code",
      "execution_count": null,
      "metadata": {
        "id": "3cw2t-pwL7rj"
      },
      "outputs": [],
      "source": [
        "# Confirmed hyperparameters after several tunings\n",
        "# model_GBC = GradientBoostingClassifier(n_estimators=400, max_depth=7, random_state=50)\n",
        "\n",
        "model_GBC = GradientBoostingClassifier(n_estimators=1, max_depth=5, random_state=10)"
      ]
    },
    {
      "cell_type": "markdown",
      "metadata": {
        "id": "EZXKciGiNvN0"
      },
      "source": [
        "# Train the Model"
      ]
    },
    {
      "cell_type": "code",
      "execution_count": null,
      "metadata": {
        "colab": {
          "base_uri": "https://localhost:8080/",
          "height": 75
        },
        "id": "60pmR9SRMCcg",
        "outputId": "f00866ea-bb97-4add-d388-6d875c7af673"
      },
      "outputs": [
        {
          "data": {
            "text/html": [
              "<style>#sk-container-id-19 {color: black;background-color: white;}#sk-container-id-19 pre{padding: 0;}#sk-container-id-19 div.sk-toggleable {background-color: white;}#sk-container-id-19 label.sk-toggleable__label {cursor: pointer;display: block;width: 100%;margin-bottom: 0;padding: 0.3em;box-sizing: border-box;text-align: center;}#sk-container-id-19 label.sk-toggleable__label-arrow:before {content: \"▸\";float: left;margin-right: 0.25em;color: #696969;}#sk-container-id-19 label.sk-toggleable__label-arrow:hover:before {color: black;}#sk-container-id-19 div.sk-estimator:hover label.sk-toggleable__label-arrow:before {color: black;}#sk-container-id-19 div.sk-toggleable__content {max-height: 0;max-width: 0;overflow: hidden;text-align: left;background-color: #f0f8ff;}#sk-container-id-19 div.sk-toggleable__content pre {margin: 0.2em;color: black;border-radius: 0.25em;background-color: #f0f8ff;}#sk-container-id-19 input.sk-toggleable__control:checked~div.sk-toggleable__content {max-height: 200px;max-width: 100%;overflow: auto;}#sk-container-id-19 input.sk-toggleable__control:checked~label.sk-toggleable__label-arrow:before {content: \"▾\";}#sk-container-id-19 div.sk-estimator input.sk-toggleable__control:checked~label.sk-toggleable__label {background-color: #d4ebff;}#sk-container-id-19 div.sk-label input.sk-toggleable__control:checked~label.sk-toggleable__label {background-color: #d4ebff;}#sk-container-id-19 input.sk-hidden--visually {border: 0;clip: rect(1px 1px 1px 1px);clip: rect(1px, 1px, 1px, 1px);height: 1px;margin: -1px;overflow: hidden;padding: 0;position: absolute;width: 1px;}#sk-container-id-19 div.sk-estimator {font-family: monospace;background-color: #f0f8ff;border: 1px dotted black;border-radius: 0.25em;box-sizing: border-box;margin-bottom: 0.5em;}#sk-container-id-19 div.sk-estimator:hover {background-color: #d4ebff;}#sk-container-id-19 div.sk-parallel-item::after {content: \"\";width: 100%;border-bottom: 1px solid gray;flex-grow: 1;}#sk-container-id-19 div.sk-label:hover label.sk-toggleable__label {background-color: #d4ebff;}#sk-container-id-19 div.sk-serial::before {content: \"\";position: absolute;border-left: 1px solid gray;box-sizing: border-box;top: 0;bottom: 0;left: 50%;z-index: 0;}#sk-container-id-19 div.sk-serial {display: flex;flex-direction: column;align-items: center;background-color: white;padding-right: 0.2em;padding-left: 0.2em;position: relative;}#sk-container-id-19 div.sk-item {position: relative;z-index: 1;}#sk-container-id-19 div.sk-parallel {display: flex;align-items: stretch;justify-content: center;background-color: white;position: relative;}#sk-container-id-19 div.sk-item::before, #sk-container-id-19 div.sk-parallel-item::before {content: \"\";position: absolute;border-left: 1px solid gray;box-sizing: border-box;top: 0;bottom: 0;left: 50%;z-index: -1;}#sk-container-id-19 div.sk-parallel-item {display: flex;flex-direction: column;z-index: 1;position: relative;background-color: white;}#sk-container-id-19 div.sk-parallel-item:first-child::after {align-self: flex-end;width: 50%;}#sk-container-id-19 div.sk-parallel-item:last-child::after {align-self: flex-start;width: 50%;}#sk-container-id-19 div.sk-parallel-item:only-child::after {width: 0;}#sk-container-id-19 div.sk-dashed-wrapped {border: 1px dashed gray;margin: 0 0.4em 0.5em 0.4em;box-sizing: border-box;padding-bottom: 0.4em;background-color: white;}#sk-container-id-19 div.sk-label label {font-family: monospace;font-weight: bold;display: inline-block;line-height: 1.2em;}#sk-container-id-19 div.sk-label-container {text-align: center;}#sk-container-id-19 div.sk-container {/* jupyter's `normalize.less` sets `[hidden] { display: none; }` but bootstrap.min.css set `[hidden] { display: none !important; }` so we also need the `!important` here to be able to override the default hidden behavior on the sphinx rendered scikit-learn.org. See: https://github.com/scikit-learn/scikit-learn/issues/21755 */display: inline-block !important;position: relative;}#sk-container-id-19 div.sk-text-repr-fallback {display: none;}</style><div id=\"sk-container-id-19\" class=\"sk-top-container\"><div class=\"sk-text-repr-fallback\"><pre>GradientBoostingClassifier(max_depth=5, n_estimators=1, random_state=10)</pre><b>In a Jupyter environment, please rerun this cell to show the HTML representation or trust the notebook. <br />On GitHub, the HTML representation is unable to render, please try loading this page with nbviewer.org.</b></div><div class=\"sk-container\" hidden><div class=\"sk-item\"><div class=\"sk-estimator sk-toggleable\"><input class=\"sk-toggleable__control sk-hidden--visually\" id=\"sk-estimator-id-19\" type=\"checkbox\" checked><label for=\"sk-estimator-id-19\" class=\"sk-toggleable__label sk-toggleable__label-arrow\">GradientBoostingClassifier</label><div class=\"sk-toggleable__content\"><pre>GradientBoostingClassifier(max_depth=5, n_estimators=1, random_state=10)</pre></div></div></div></div></div>"
            ],
            "text/plain": [
              "GradientBoostingClassifier(max_depth=5, n_estimators=1, random_state=10)"
            ]
          },
          "execution_count": 125,
          "metadata": {},
          "output_type": "execute_result"
        }
      ],
      "source": [
        "model_GBC.fit(x_train, y_train)"
      ]
    },
    {
      "cell_type": "markdown",
      "metadata": {
        "id": "yB8DXw7mNx6y"
      },
      "source": [
        "# Model evaluation"
      ]
    },
    {
      "cell_type": "code",
      "execution_count": null,
      "metadata": {
        "colab": {
          "base_uri": "https://localhost:8080/",
          "height": 879
        },
        "id": "xTL0JfVrMvlT",
        "outputId": "6818a233-f77c-4c71-f5c3-26c2390f834b"
      },
      "outputs": [
        {
          "name": "stdout",
          "output_type": "stream",
          "text": [
            "Accuracy using Gradient Boosting Classifier model: 50.59%\n",
            "\n",
            "              precision    recall  f1-score   support\n",
            "\n",
            "          01       0.38      0.52      0.44        21\n",
            "          02       0.62      0.62      0.62        16\n",
            "          03       0.56      0.36      0.44        25\n",
            "          04       0.54      0.57      0.55        23\n",
            "\n",
            "    accuracy                           0.51        85\n",
            "   macro avg       0.53      0.52      0.51        85\n",
            "weighted avg       0.52      0.51      0.51        85\n",
            "\n"
          ]
        },
        {
          "data": {
            "image/png": "[encoded data removed]",
            "text/plain": [
              "<Figure size 800x800 with 2 Axes>"
            ]
          },
          "metadata": {},
          "output_type": "display_data"
        }
      ],
      "source": [
        "y_pred = model_GBC.predict(x_test)\n",
        "\n",
        "accuracy = accuracy_score(y_true=y_test, y_pred=y_pred)\n",
        "print(f\"Accuracy using Gradient Boosting Classifier model: {accuracy * 100 :.2f}%\\n\")\n",
        "\n",
        "print(classification_report(y_test, y_pred))\n",
        "draw_confusion_matrix(y_test, y_pred, model_name=\"Gradient Boosting Classifier\")"
      ]
    },
    {
      "cell_type": "code",
      "execution_count": null,
      "metadata": {
        "colab": {
          "base_uri": "https://localhost:8080/",
          "height": 887
        },
        "id": "s5KVbJ3uOoqm",
        "outputId": "c67d88f2-d631-4ced-f4e1-3038f8287897"
      },
      "outputs": [
        {
          "name": "stdout",
          "output_type": "stream",
          "text": [
            "Accuracy using KNN model: 67.06%\n",
            "\n",
            "              precision    recall  f1-score   support\n",
            "\n",
            "          01       0.68      0.71      0.70        21\n",
            "          02       0.74      0.88      0.80        16\n",
            "          03       0.59      0.52      0.55        25\n",
            "          04       0.68      0.65      0.67        23\n",
            "\n",
            "    accuracy                           0.67        85\n",
            "   macro avg       0.67      0.69      0.68        85\n",
            "weighted avg       0.67      0.67      0.67        85\n",
            "\n"
          ]
        },
        {
          "data": {
            "image/png": "[encoded data removed]",
            "text/plain": [
              "<Figure size 800x800 with 2 Axes>"
            ]
          },
          "metadata": {},
          "output_type": "display_data"
        }
      ],
      "source": [
        "from sklearn.neighbors import KNeighborsClassifier\n",
        "from sklearn.metrics import accuracy_score, classification_report\n",
        "import matplotlib.pyplot as plt\n",
        "import seaborn as sns\n",
        "from sklearn.metrics import confusion_matrix\n",
        "\n",
        "\n",
        "model_KNN = KNeighborsClassifier(n_neighbors=1, p=1.2, weights=\"distance\")\n",
        "\n",
        "model_KNN.fit(x_train, y_train)\n",
        "\n",
        "y_pred_knn = model_KNN.predict(x_test)\n",
        "\n",
        "accuracy_knn = accuracy_score(y_true=y_test, y_pred=y_pred_knn)\n",
        "print(f\"Accuracy using KNN model: {accuracy_knn * 100:.2f}%\\n\")\n",
        "\n",
        "print(classification_report(y_test, y_pred_knn))\n",
        "\n",
        "draw_confusion_matrix(y_test, y_pred_knn, model_name=\"KNN\")"
      ]
    }
  ],
  "metadata": {
    "colab": {
      "provenance": []
    },
    "kernelspec": {
      "display_name": "Python 3",
      "name": "python3"
    },
    "language_info": {
      "name": "python"
    }
  },
  "nbformat": 4,
  "nbformat_minor": 0
}
